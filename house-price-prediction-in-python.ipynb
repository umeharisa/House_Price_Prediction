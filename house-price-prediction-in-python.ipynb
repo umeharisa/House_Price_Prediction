{
 "cells": [
  {
   "cell_type": "markdown",
   "id": "7a54e0fd",
   "metadata": {
    "papermill": {
     "duration": 0.016063,
     "end_time": "2023-11-05T14:10:36.855754",
     "exception": false,
     "start_time": "2023-11-05T14:10:36.839691",
     "status": "completed"
    },
    "tags": []
   },
   "source": [
    "**Importing necessary libraries & Metrices**"
   ]
  },
  {
   "cell_type": "code",
   "execution_count": 1,
   "id": "28beaa47",
   "metadata": {
    "execution": {
     "iopub.execute_input": "2023-11-05T14:10:36.888990Z",
     "iopub.status.busy": "2023-11-05T14:10:36.888555Z",
     "iopub.status.idle": "2023-11-05T14:10:39.957293Z",
     "shell.execute_reply": "2023-11-05T14:10:39.956099Z"
    },
    "papermill": {
     "duration": 3.088984,
     "end_time": "2023-11-05T14:10:39.960417",
     "exception": false,
     "start_time": "2023-11-05T14:10:36.871433",
     "status": "completed"
    },
    "tags": []
   },
   "outputs": [],
   "source": [
    "import pandas as pd\n",
    "import seaborn as sns\n",
    "import numpy as np\n",
    "import matplotlib.pyplot as plt\n",
    "\n",
    "\n",
    "from sklearn.ensemble import RandomForestRegressor\n",
    "from sklearn.ensemble import GradientBoostingRegressor\n",
    "from sklearn.model_selection import GridSearchCV\n",
    "\n",
    "from sklearn.metrics import mean_squared_error, mean_absolute_error, r2_score"
   ]
  },
  {
   "cell_type": "markdown",
   "id": "e04fb1c2",
   "metadata": {
    "papermill": {
     "duration": 0.015326,
     "end_time": "2023-11-05T14:10:39.991412",
     "exception": false,
     "start_time": "2023-11-05T14:10:39.976086",
     "status": "completed"
    },
    "tags": []
   },
   "source": [
    "Loading the Dataset"
   ]
  },
  {
   "cell_type": "code",
   "execution_count": 2,
   "id": "ae8ef324",
   "metadata": {
    "execution": {
     "iopub.execute_input": "2023-11-05T14:10:40.025104Z",
     "iopub.status.busy": "2023-11-05T14:10:40.023919Z",
     "iopub.status.idle": "2023-11-05T14:10:40.082228Z",
     "shell.execute_reply": "2023-11-05T14:10:40.080980Z"
    },
    "papermill": {
     "duration": 0.078073,
     "end_time": "2023-11-05T14:10:40.085145",
     "exception": false,
     "start_time": "2023-11-05T14:10:40.007072",
     "status": "completed"
    },
    "tags": []
   },
   "outputs": [],
   "source": [
    "#read the dataset into dataframe\n",
    "df = pd.read_csv(\"/kaggle/input/house-prices-advanced-regression-techniques/train.csv\")"
   ]
  },
  {
   "cell_type": "markdown",
   "id": "d27fa0b1",
   "metadata": {
    "papermill": {
     "duration": 0.015364,
     "end_time": "2023-11-05T14:10:40.116637",
     "exception": false,
     "start_time": "2023-11-05T14:10:40.101273",
     "status": "completed"
    },
    "tags": []
   },
   "source": [
    "**Exploratory Data Analysis**"
   ]
  },
  {
   "cell_type": "code",
   "execution_count": 3,
   "id": "cd1247ed",
   "metadata": {
    "execution": {
     "iopub.execute_input": "2023-11-05T14:10:40.150399Z",
     "iopub.status.busy": "2023-11-05T14:10:40.149692Z",
     "iopub.status.idle": "2023-11-05T14:10:40.193087Z",
     "shell.execute_reply": "2023-11-05T14:10:40.191995Z"
    },
    "papermill": {
     "duration": 0.063705,
     "end_time": "2023-11-05T14:10:40.195978",
     "exception": false,
     "start_time": "2023-11-05T14:10:40.132273",
     "status": "completed"
    },
    "tags": []
   },
   "outputs": [
    {
     "name": "stdout",
     "output_type": "stream",
     "text": [
      "<class 'pandas.core.frame.DataFrame'>\n",
      "RangeIndex: 1460 entries, 0 to 1459\n",
      "Data columns (total 81 columns):\n",
      " #   Column         Non-Null Count  Dtype  \n",
      "---  ------         --------------  -----  \n",
      " 0   Id             1460 non-null   int64  \n",
      " 1   MSSubClass     1460 non-null   int64  \n",
      " 2   MSZoning       1460 non-null   object \n",
      " 3   LotFrontage    1201 non-null   float64\n",
      " 4   LotArea        1460 non-null   int64  \n",
      " 5   Street         1460 non-null   object \n",
      " 6   Alley          91 non-null     object \n",
      " 7   LotShape       1460 non-null   object \n",
      " 8   LandContour    1460 non-null   object \n",
      " 9   Utilities      1460 non-null   object \n",
      " 10  LotConfig      1460 non-null   object \n",
      " 11  LandSlope      1460 non-null   object \n",
      " 12  Neighborhood   1460 non-null   object \n",
      " 13  Condition1     1460 non-null   object \n",
      " 14  Condition2     1460 non-null   object \n",
      " 15  BldgType       1460 non-null   object \n",
      " 16  HouseStyle     1460 non-null   object \n",
      " 17  OverallQual    1460 non-null   int64  \n",
      " 18  OverallCond    1460 non-null   int64  \n",
      " 19  YearBuilt      1460 non-null   int64  \n",
      " 20  YearRemodAdd   1460 non-null   int64  \n",
      " 21  RoofStyle      1460 non-null   object \n",
      " 22  RoofMatl       1460 non-null   object \n",
      " 23  Exterior1st    1460 non-null   object \n",
      " 24  Exterior2nd    1460 non-null   object \n",
      " 25  MasVnrType     588 non-null    object \n",
      " 26  MasVnrArea     1452 non-null   float64\n",
      " 27  ExterQual      1460 non-null   object \n",
      " 28  ExterCond      1460 non-null   object \n",
      " 29  Foundation     1460 non-null   object \n",
      " 30  BsmtQual       1423 non-null   object \n",
      " 31  BsmtCond       1423 non-null   object \n",
      " 32  BsmtExposure   1422 non-null   object \n",
      " 33  BsmtFinType1   1423 non-null   object \n",
      " 34  BsmtFinSF1     1460 non-null   int64  \n",
      " 35  BsmtFinType2   1422 non-null   object \n",
      " 36  BsmtFinSF2     1460 non-null   int64  \n",
      " 37  BsmtUnfSF      1460 non-null   int64  \n",
      " 38  TotalBsmtSF    1460 non-null   int64  \n",
      " 39  Heating        1460 non-null   object \n",
      " 40  HeatingQC      1460 non-null   object \n",
      " 41  CentralAir     1460 non-null   object \n",
      " 42  Electrical     1459 non-null   object \n",
      " 43  1stFlrSF       1460 non-null   int64  \n",
      " 44  2ndFlrSF       1460 non-null   int64  \n",
      " 45  LowQualFinSF   1460 non-null   int64  \n",
      " 46  GrLivArea      1460 non-null   int64  \n",
      " 47  BsmtFullBath   1460 non-null   int64  \n",
      " 48  BsmtHalfBath   1460 non-null   int64  \n",
      " 49  FullBath       1460 non-null   int64  \n",
      " 50  HalfBath       1460 non-null   int64  \n",
      " 51  BedroomAbvGr   1460 non-null   int64  \n",
      " 52  KitchenAbvGr   1460 non-null   int64  \n",
      " 53  KitchenQual    1460 non-null   object \n",
      " 54  TotRmsAbvGrd   1460 non-null   int64  \n",
      " 55  Functional     1460 non-null   object \n",
      " 56  Fireplaces     1460 non-null   int64  \n",
      " 57  FireplaceQu    770 non-null    object \n",
      " 58  GarageType     1379 non-null   object \n",
      " 59  GarageYrBlt    1379 non-null   float64\n",
      " 60  GarageFinish   1379 non-null   object \n",
      " 61  GarageCars     1460 non-null   int64  \n",
      " 62  GarageArea     1460 non-null   int64  \n",
      " 63  GarageQual     1379 non-null   object \n",
      " 64  GarageCond     1379 non-null   object \n",
      " 65  PavedDrive     1460 non-null   object \n",
      " 66  WoodDeckSF     1460 non-null   int64  \n",
      " 67  OpenPorchSF    1460 non-null   int64  \n",
      " 68  EnclosedPorch  1460 non-null   int64  \n",
      " 69  3SsnPorch      1460 non-null   int64  \n",
      " 70  ScreenPorch    1460 non-null   int64  \n",
      " 71  PoolArea       1460 non-null   int64  \n",
      " 72  PoolQC         7 non-null      object \n",
      " 73  Fence          281 non-null    object \n",
      " 74  MiscFeature    54 non-null     object \n",
      " 75  MiscVal        1460 non-null   int64  \n",
      " 76  MoSold         1460 non-null   int64  \n",
      " 77  YrSold         1460 non-null   int64  \n",
      " 78  SaleType       1460 non-null   object \n",
      " 79  SaleCondition  1460 non-null   object \n",
      " 80  SalePrice      1460 non-null   int64  \n",
      "dtypes: float64(3), int64(35), object(43)\n",
      "memory usage: 924.0+ KB\n"
     ]
    }
   ],
   "source": [
    "df.info()"
   ]
  },
  {
   "cell_type": "code",
   "execution_count": 4,
   "id": "13fb101d",
   "metadata": {
    "execution": {
     "iopub.execute_input": "2023-11-05T14:10:40.230853Z",
     "iopub.status.busy": "2023-11-05T14:10:40.229645Z",
     "iopub.status.idle": "2023-11-05T14:10:40.263790Z",
     "shell.execute_reply": "2023-11-05T14:10:40.262730Z"
    },
    "papermill": {
     "duration": 0.054319,
     "end_time": "2023-11-05T14:10:40.266258",
     "exception": false,
     "start_time": "2023-11-05T14:10:40.211939",
     "status": "completed"
    },
    "tags": []
   },
   "outputs": [
    {
     "data": {
      "text/html": [
       "<div>\n",
       "<style scoped>\n",
       "    .dataframe tbody tr th:only-of-type {\n",
       "        vertical-align: middle;\n",
       "    }\n",
       "\n",
       "    .dataframe tbody tr th {\n",
       "        vertical-align: top;\n",
       "    }\n",
       "\n",
       "    .dataframe thead th {\n",
       "        text-align: right;\n",
       "    }\n",
       "</style>\n",
       "<table border=\"1\" class=\"dataframe\">\n",
       "  <thead>\n",
       "    <tr style=\"text-align: right;\">\n",
       "      <th></th>\n",
       "      <th>Id</th>\n",
       "      <th>MSSubClass</th>\n",
       "      <th>MSZoning</th>\n",
       "      <th>LotFrontage</th>\n",
       "      <th>LotArea</th>\n",
       "      <th>Street</th>\n",
       "      <th>Alley</th>\n",
       "      <th>LotShape</th>\n",
       "      <th>LandContour</th>\n",
       "      <th>Utilities</th>\n",
       "      <th>...</th>\n",
       "      <th>PoolArea</th>\n",
       "      <th>PoolQC</th>\n",
       "      <th>Fence</th>\n",
       "      <th>MiscFeature</th>\n",
       "      <th>MiscVal</th>\n",
       "      <th>MoSold</th>\n",
       "      <th>YrSold</th>\n",
       "      <th>SaleType</th>\n",
       "      <th>SaleCondition</th>\n",
       "      <th>SalePrice</th>\n",
       "    </tr>\n",
       "  </thead>\n",
       "  <tbody>\n",
       "    <tr>\n",
       "      <th>0</th>\n",
       "      <td>1</td>\n",
       "      <td>60</td>\n",
       "      <td>RL</td>\n",
       "      <td>65.0</td>\n",
       "      <td>8450</td>\n",
       "      <td>Pave</td>\n",
       "      <td>NaN</td>\n",
       "      <td>Reg</td>\n",
       "      <td>Lvl</td>\n",
       "      <td>AllPub</td>\n",
       "      <td>...</td>\n",
       "      <td>0</td>\n",
       "      <td>NaN</td>\n",
       "      <td>NaN</td>\n",
       "      <td>NaN</td>\n",
       "      <td>0</td>\n",
       "      <td>2</td>\n",
       "      <td>2008</td>\n",
       "      <td>WD</td>\n",
       "      <td>Normal</td>\n",
       "      <td>208500</td>\n",
       "    </tr>\n",
       "    <tr>\n",
       "      <th>1</th>\n",
       "      <td>2</td>\n",
       "      <td>20</td>\n",
       "      <td>RL</td>\n",
       "      <td>80.0</td>\n",
       "      <td>9600</td>\n",
       "      <td>Pave</td>\n",
       "      <td>NaN</td>\n",
       "      <td>Reg</td>\n",
       "      <td>Lvl</td>\n",
       "      <td>AllPub</td>\n",
       "      <td>...</td>\n",
       "      <td>0</td>\n",
       "      <td>NaN</td>\n",
       "      <td>NaN</td>\n",
       "      <td>NaN</td>\n",
       "      <td>0</td>\n",
       "      <td>5</td>\n",
       "      <td>2007</td>\n",
       "      <td>WD</td>\n",
       "      <td>Normal</td>\n",
       "      <td>181500</td>\n",
       "    </tr>\n",
       "    <tr>\n",
       "      <th>2</th>\n",
       "      <td>3</td>\n",
       "      <td>60</td>\n",
       "      <td>RL</td>\n",
       "      <td>68.0</td>\n",
       "      <td>11250</td>\n",
       "      <td>Pave</td>\n",
       "      <td>NaN</td>\n",
       "      <td>IR1</td>\n",
       "      <td>Lvl</td>\n",
       "      <td>AllPub</td>\n",
       "      <td>...</td>\n",
       "      <td>0</td>\n",
       "      <td>NaN</td>\n",
       "      <td>NaN</td>\n",
       "      <td>NaN</td>\n",
       "      <td>0</td>\n",
       "      <td>9</td>\n",
       "      <td>2008</td>\n",
       "      <td>WD</td>\n",
       "      <td>Normal</td>\n",
       "      <td>223500</td>\n",
       "    </tr>\n",
       "    <tr>\n",
       "      <th>3</th>\n",
       "      <td>4</td>\n",
       "      <td>70</td>\n",
       "      <td>RL</td>\n",
       "      <td>60.0</td>\n",
       "      <td>9550</td>\n",
       "      <td>Pave</td>\n",
       "      <td>NaN</td>\n",
       "      <td>IR1</td>\n",
       "      <td>Lvl</td>\n",
       "      <td>AllPub</td>\n",
       "      <td>...</td>\n",
       "      <td>0</td>\n",
       "      <td>NaN</td>\n",
       "      <td>NaN</td>\n",
       "      <td>NaN</td>\n",
       "      <td>0</td>\n",
       "      <td>2</td>\n",
       "      <td>2006</td>\n",
       "      <td>WD</td>\n",
       "      <td>Abnorml</td>\n",
       "      <td>140000</td>\n",
       "    </tr>\n",
       "    <tr>\n",
       "      <th>4</th>\n",
       "      <td>5</td>\n",
       "      <td>60</td>\n",
       "      <td>RL</td>\n",
       "      <td>84.0</td>\n",
       "      <td>14260</td>\n",
       "      <td>Pave</td>\n",
       "      <td>NaN</td>\n",
       "      <td>IR1</td>\n",
       "      <td>Lvl</td>\n",
       "      <td>AllPub</td>\n",
       "      <td>...</td>\n",
       "      <td>0</td>\n",
       "      <td>NaN</td>\n",
       "      <td>NaN</td>\n",
       "      <td>NaN</td>\n",
       "      <td>0</td>\n",
       "      <td>12</td>\n",
       "      <td>2008</td>\n",
       "      <td>WD</td>\n",
       "      <td>Normal</td>\n",
       "      <td>250000</td>\n",
       "    </tr>\n",
       "  </tbody>\n",
       "</table>\n",
       "<p>5 rows × 81 columns</p>\n",
       "</div>"
      ],
      "text/plain": [
       "   Id  MSSubClass MSZoning  LotFrontage  LotArea Street Alley LotShape  \\\n",
       "0   1          60       RL         65.0     8450   Pave   NaN      Reg   \n",
       "1   2          20       RL         80.0     9600   Pave   NaN      Reg   \n",
       "2   3          60       RL         68.0    11250   Pave   NaN      IR1   \n",
       "3   4          70       RL         60.0     9550   Pave   NaN      IR1   \n",
       "4   5          60       RL         84.0    14260   Pave   NaN      IR1   \n",
       "\n",
       "  LandContour Utilities  ... PoolArea PoolQC Fence MiscFeature MiscVal MoSold  \\\n",
       "0         Lvl    AllPub  ...        0    NaN   NaN         NaN       0      2   \n",
       "1         Lvl    AllPub  ...        0    NaN   NaN         NaN       0      5   \n",
       "2         Lvl    AllPub  ...        0    NaN   NaN         NaN       0      9   \n",
       "3         Lvl    AllPub  ...        0    NaN   NaN         NaN       0      2   \n",
       "4         Lvl    AllPub  ...        0    NaN   NaN         NaN       0     12   \n",
       "\n",
       "  YrSold  SaleType  SaleCondition  SalePrice  \n",
       "0   2008        WD         Normal     208500  \n",
       "1   2007        WD         Normal     181500  \n",
       "2   2008        WD         Normal     223500  \n",
       "3   2006        WD        Abnorml     140000  \n",
       "4   2008        WD         Normal     250000  \n",
       "\n",
       "[5 rows x 81 columns]"
      ]
     },
     "execution_count": 4,
     "metadata": {},
     "output_type": "execute_result"
    }
   ],
   "source": [
    "df.head(5)"
   ]
  },
  {
   "cell_type": "code",
   "execution_count": 5,
   "id": "93edfb7d",
   "metadata": {
    "execution": {
     "iopub.execute_input": "2023-11-05T14:10:40.300961Z",
     "iopub.status.busy": "2023-11-05T14:10:40.300446Z",
     "iopub.status.idle": "2023-11-05T14:10:40.308673Z",
     "shell.execute_reply": "2023-11-05T14:10:40.306954Z"
    },
    "papermill": {
     "duration": 0.029239,
     "end_time": "2023-11-05T14:10:40.311895",
     "exception": false,
     "start_time": "2023-11-05T14:10:40.282656",
     "status": "completed"
    },
    "tags": []
   },
   "outputs": [
    {
     "data": {
      "text/plain": [
       "(1460, 81)"
      ]
     },
     "execution_count": 5,
     "metadata": {},
     "output_type": "execute_result"
    }
   ],
   "source": [
    "#Shape of the dataframe\n",
    "\n",
    "df.shape"
   ]
  },
  {
   "cell_type": "code",
   "execution_count": 6,
   "id": "b5b70661",
   "metadata": {
    "execution": {
     "iopub.execute_input": "2023-11-05T14:10:40.346854Z",
     "iopub.status.busy": "2023-11-05T14:10:40.346426Z",
     "iopub.status.idle": "2023-11-05T14:10:40.459228Z",
     "shell.execute_reply": "2023-11-05T14:10:40.457917Z"
    },
    "papermill": {
     "duration": 0.133195,
     "end_time": "2023-11-05T14:10:40.461744",
     "exception": false,
     "start_time": "2023-11-05T14:10:40.328549",
     "status": "completed"
    },
    "tags": []
   },
   "outputs": [
    {
     "data": {
      "text/html": [
       "<div>\n",
       "<style scoped>\n",
       "    .dataframe tbody tr th:only-of-type {\n",
       "        vertical-align: middle;\n",
       "    }\n",
       "\n",
       "    .dataframe tbody tr th {\n",
       "        vertical-align: top;\n",
       "    }\n",
       "\n",
       "    .dataframe thead th {\n",
       "        text-align: right;\n",
       "    }\n",
       "</style>\n",
       "<table border=\"1\" class=\"dataframe\">\n",
       "  <thead>\n",
       "    <tr style=\"text-align: right;\">\n",
       "      <th></th>\n",
       "      <th>Id</th>\n",
       "      <th>MSSubClass</th>\n",
       "      <th>LotFrontage</th>\n",
       "      <th>LotArea</th>\n",
       "      <th>OverallQual</th>\n",
       "      <th>OverallCond</th>\n",
       "      <th>YearBuilt</th>\n",
       "      <th>YearRemodAdd</th>\n",
       "      <th>MasVnrArea</th>\n",
       "      <th>BsmtFinSF1</th>\n",
       "      <th>...</th>\n",
       "      <th>WoodDeckSF</th>\n",
       "      <th>OpenPorchSF</th>\n",
       "      <th>EnclosedPorch</th>\n",
       "      <th>3SsnPorch</th>\n",
       "      <th>ScreenPorch</th>\n",
       "      <th>PoolArea</th>\n",
       "      <th>MiscVal</th>\n",
       "      <th>MoSold</th>\n",
       "      <th>YrSold</th>\n",
       "      <th>SalePrice</th>\n",
       "    </tr>\n",
       "  </thead>\n",
       "  <tbody>\n",
       "    <tr>\n",
       "      <th>count</th>\n",
       "      <td>1460.000000</td>\n",
       "      <td>1460.000000</td>\n",
       "      <td>1201.000000</td>\n",
       "      <td>1460.000000</td>\n",
       "      <td>1460.000000</td>\n",
       "      <td>1460.000000</td>\n",
       "      <td>1460.000000</td>\n",
       "      <td>1460.000000</td>\n",
       "      <td>1452.000000</td>\n",
       "      <td>1460.000000</td>\n",
       "      <td>...</td>\n",
       "      <td>1460.000000</td>\n",
       "      <td>1460.000000</td>\n",
       "      <td>1460.000000</td>\n",
       "      <td>1460.000000</td>\n",
       "      <td>1460.000000</td>\n",
       "      <td>1460.000000</td>\n",
       "      <td>1460.000000</td>\n",
       "      <td>1460.000000</td>\n",
       "      <td>1460.000000</td>\n",
       "      <td>1460.000000</td>\n",
       "    </tr>\n",
       "    <tr>\n",
       "      <th>mean</th>\n",
       "      <td>730.500000</td>\n",
       "      <td>56.897260</td>\n",
       "      <td>70.049958</td>\n",
       "      <td>10516.828082</td>\n",
       "      <td>6.099315</td>\n",
       "      <td>5.575342</td>\n",
       "      <td>1971.267808</td>\n",
       "      <td>1984.865753</td>\n",
       "      <td>103.685262</td>\n",
       "      <td>443.639726</td>\n",
       "      <td>...</td>\n",
       "      <td>94.244521</td>\n",
       "      <td>46.660274</td>\n",
       "      <td>21.954110</td>\n",
       "      <td>3.409589</td>\n",
       "      <td>15.060959</td>\n",
       "      <td>2.758904</td>\n",
       "      <td>43.489041</td>\n",
       "      <td>6.321918</td>\n",
       "      <td>2007.815753</td>\n",
       "      <td>180921.195890</td>\n",
       "    </tr>\n",
       "    <tr>\n",
       "      <th>std</th>\n",
       "      <td>421.610009</td>\n",
       "      <td>42.300571</td>\n",
       "      <td>24.284752</td>\n",
       "      <td>9981.264932</td>\n",
       "      <td>1.382997</td>\n",
       "      <td>1.112799</td>\n",
       "      <td>30.202904</td>\n",
       "      <td>20.645407</td>\n",
       "      <td>181.066207</td>\n",
       "      <td>456.098091</td>\n",
       "      <td>...</td>\n",
       "      <td>125.338794</td>\n",
       "      <td>66.256028</td>\n",
       "      <td>61.119149</td>\n",
       "      <td>29.317331</td>\n",
       "      <td>55.757415</td>\n",
       "      <td>40.177307</td>\n",
       "      <td>496.123024</td>\n",
       "      <td>2.703626</td>\n",
       "      <td>1.328095</td>\n",
       "      <td>79442.502883</td>\n",
       "    </tr>\n",
       "    <tr>\n",
       "      <th>min</th>\n",
       "      <td>1.000000</td>\n",
       "      <td>20.000000</td>\n",
       "      <td>21.000000</td>\n",
       "      <td>1300.000000</td>\n",
       "      <td>1.000000</td>\n",
       "      <td>1.000000</td>\n",
       "      <td>1872.000000</td>\n",
       "      <td>1950.000000</td>\n",
       "      <td>0.000000</td>\n",
       "      <td>0.000000</td>\n",
       "      <td>...</td>\n",
       "      <td>0.000000</td>\n",
       "      <td>0.000000</td>\n",
       "      <td>0.000000</td>\n",
       "      <td>0.000000</td>\n",
       "      <td>0.000000</td>\n",
       "      <td>0.000000</td>\n",
       "      <td>0.000000</td>\n",
       "      <td>1.000000</td>\n",
       "      <td>2006.000000</td>\n",
       "      <td>34900.000000</td>\n",
       "    </tr>\n",
       "    <tr>\n",
       "      <th>25%</th>\n",
       "      <td>365.750000</td>\n",
       "      <td>20.000000</td>\n",
       "      <td>59.000000</td>\n",
       "      <td>7553.500000</td>\n",
       "      <td>5.000000</td>\n",
       "      <td>5.000000</td>\n",
       "      <td>1954.000000</td>\n",
       "      <td>1967.000000</td>\n",
       "      <td>0.000000</td>\n",
       "      <td>0.000000</td>\n",
       "      <td>...</td>\n",
       "      <td>0.000000</td>\n",
       "      <td>0.000000</td>\n",
       "      <td>0.000000</td>\n",
       "      <td>0.000000</td>\n",
       "      <td>0.000000</td>\n",
       "      <td>0.000000</td>\n",
       "      <td>0.000000</td>\n",
       "      <td>5.000000</td>\n",
       "      <td>2007.000000</td>\n",
       "      <td>129975.000000</td>\n",
       "    </tr>\n",
       "    <tr>\n",
       "      <th>50%</th>\n",
       "      <td>730.500000</td>\n",
       "      <td>50.000000</td>\n",
       "      <td>69.000000</td>\n",
       "      <td>9478.500000</td>\n",
       "      <td>6.000000</td>\n",
       "      <td>5.000000</td>\n",
       "      <td>1973.000000</td>\n",
       "      <td>1994.000000</td>\n",
       "      <td>0.000000</td>\n",
       "      <td>383.500000</td>\n",
       "      <td>...</td>\n",
       "      <td>0.000000</td>\n",
       "      <td>25.000000</td>\n",
       "      <td>0.000000</td>\n",
       "      <td>0.000000</td>\n",
       "      <td>0.000000</td>\n",
       "      <td>0.000000</td>\n",
       "      <td>0.000000</td>\n",
       "      <td>6.000000</td>\n",
       "      <td>2008.000000</td>\n",
       "      <td>163000.000000</td>\n",
       "    </tr>\n",
       "    <tr>\n",
       "      <th>75%</th>\n",
       "      <td>1095.250000</td>\n",
       "      <td>70.000000</td>\n",
       "      <td>80.000000</td>\n",
       "      <td>11601.500000</td>\n",
       "      <td>7.000000</td>\n",
       "      <td>6.000000</td>\n",
       "      <td>2000.000000</td>\n",
       "      <td>2004.000000</td>\n",
       "      <td>166.000000</td>\n",
       "      <td>712.250000</td>\n",
       "      <td>...</td>\n",
       "      <td>168.000000</td>\n",
       "      <td>68.000000</td>\n",
       "      <td>0.000000</td>\n",
       "      <td>0.000000</td>\n",
       "      <td>0.000000</td>\n",
       "      <td>0.000000</td>\n",
       "      <td>0.000000</td>\n",
       "      <td>8.000000</td>\n",
       "      <td>2009.000000</td>\n",
       "      <td>214000.000000</td>\n",
       "    </tr>\n",
       "    <tr>\n",
       "      <th>max</th>\n",
       "      <td>1460.000000</td>\n",
       "      <td>190.000000</td>\n",
       "      <td>313.000000</td>\n",
       "      <td>215245.000000</td>\n",
       "      <td>10.000000</td>\n",
       "      <td>9.000000</td>\n",
       "      <td>2010.000000</td>\n",
       "      <td>2010.000000</td>\n",
       "      <td>1600.000000</td>\n",
       "      <td>5644.000000</td>\n",
       "      <td>...</td>\n",
       "      <td>857.000000</td>\n",
       "      <td>547.000000</td>\n",
       "      <td>552.000000</td>\n",
       "      <td>508.000000</td>\n",
       "      <td>480.000000</td>\n",
       "      <td>738.000000</td>\n",
       "      <td>15500.000000</td>\n",
       "      <td>12.000000</td>\n",
       "      <td>2010.000000</td>\n",
       "      <td>755000.000000</td>\n",
       "    </tr>\n",
       "  </tbody>\n",
       "</table>\n",
       "<p>8 rows × 38 columns</p>\n",
       "</div>"
      ],
      "text/plain": [
       "                Id   MSSubClass  LotFrontage        LotArea  OverallQual  \\\n",
       "count  1460.000000  1460.000000  1201.000000    1460.000000  1460.000000   \n",
       "mean    730.500000    56.897260    70.049958   10516.828082     6.099315   \n",
       "std     421.610009    42.300571    24.284752    9981.264932     1.382997   \n",
       "min       1.000000    20.000000    21.000000    1300.000000     1.000000   \n",
       "25%     365.750000    20.000000    59.000000    7553.500000     5.000000   \n",
       "50%     730.500000    50.000000    69.000000    9478.500000     6.000000   \n",
       "75%    1095.250000    70.000000    80.000000   11601.500000     7.000000   \n",
       "max    1460.000000   190.000000   313.000000  215245.000000    10.000000   \n",
       "\n",
       "       OverallCond    YearBuilt  YearRemodAdd   MasVnrArea   BsmtFinSF1  ...  \\\n",
       "count  1460.000000  1460.000000   1460.000000  1452.000000  1460.000000  ...   \n",
       "mean      5.575342  1971.267808   1984.865753   103.685262   443.639726  ...   \n",
       "std       1.112799    30.202904     20.645407   181.066207   456.098091  ...   \n",
       "min       1.000000  1872.000000   1950.000000     0.000000     0.000000  ...   \n",
       "25%       5.000000  1954.000000   1967.000000     0.000000     0.000000  ...   \n",
       "50%       5.000000  1973.000000   1994.000000     0.000000   383.500000  ...   \n",
       "75%       6.000000  2000.000000   2004.000000   166.000000   712.250000  ...   \n",
       "max       9.000000  2010.000000   2010.000000  1600.000000  5644.000000  ...   \n",
       "\n",
       "        WoodDeckSF  OpenPorchSF  EnclosedPorch    3SsnPorch  ScreenPorch  \\\n",
       "count  1460.000000  1460.000000    1460.000000  1460.000000  1460.000000   \n",
       "mean     94.244521    46.660274      21.954110     3.409589    15.060959   \n",
       "std     125.338794    66.256028      61.119149    29.317331    55.757415   \n",
       "min       0.000000     0.000000       0.000000     0.000000     0.000000   \n",
       "25%       0.000000     0.000000       0.000000     0.000000     0.000000   \n",
       "50%       0.000000    25.000000       0.000000     0.000000     0.000000   \n",
       "75%     168.000000    68.000000       0.000000     0.000000     0.000000   \n",
       "max     857.000000   547.000000     552.000000   508.000000   480.000000   \n",
       "\n",
       "          PoolArea       MiscVal       MoSold       YrSold      SalePrice  \n",
       "count  1460.000000   1460.000000  1460.000000  1460.000000    1460.000000  \n",
       "mean      2.758904     43.489041     6.321918  2007.815753  180921.195890  \n",
       "std      40.177307    496.123024     2.703626     1.328095   79442.502883  \n",
       "min       0.000000      0.000000     1.000000  2006.000000   34900.000000  \n",
       "25%       0.000000      0.000000     5.000000  2007.000000  129975.000000  \n",
       "50%       0.000000      0.000000     6.000000  2008.000000  163000.000000  \n",
       "75%       0.000000      0.000000     8.000000  2009.000000  214000.000000  \n",
       "max     738.000000  15500.000000    12.000000  2010.000000  755000.000000  \n",
       "\n",
       "[8 rows x 38 columns]"
      ]
     },
     "execution_count": 6,
     "metadata": {},
     "output_type": "execute_result"
    }
   ],
   "source": [
    "#Statistical summary of the dataset\n",
    "\n",
    "df.describe()"
   ]
  },
  {
   "cell_type": "markdown",
   "id": "bb84f71e",
   "metadata": {
    "papermill": {
     "duration": 0.017703,
     "end_time": "2023-11-05T14:10:40.497766",
     "exception": false,
     "start_time": "2023-11-05T14:10:40.480063",
     "status": "completed"
    },
    "tags": []
   },
   "source": [
    "**Visualaization**"
   ]
  },
  {
   "cell_type": "markdown",
   "id": "fe35310a",
   "metadata": {
    "papermill": {
     "duration": 0.016654,
     "end_time": "2023-11-05T14:10:40.531459",
     "exception": false,
     "start_time": "2023-11-05T14:10:40.514805",
     "status": "completed"
    },
    "tags": []
   },
   "source": [
    "House Price Distribution"
   ]
  },
  {
   "cell_type": "code",
   "execution_count": 7,
   "id": "abd4557f",
   "metadata": {
    "execution": {
     "iopub.execute_input": "2023-11-05T14:10:40.567380Z",
     "iopub.status.busy": "2023-11-05T14:10:40.566713Z",
     "iopub.status.idle": "2023-11-05T14:10:41.047180Z",
     "shell.execute_reply": "2023-11-05T14:10:41.045958Z"
    },
    "papermill": {
     "duration": 0.501223,
     "end_time": "2023-11-05T14:10:41.049598",
     "exception": false,
     "start_time": "2023-11-05T14:10:40.548375",
     "status": "completed"
    },
    "tags": []
   },
   "outputs": [
    {
     "data": {
      "image/png": "[encoded data removed]",
      "text/plain": [
       "<Figure size 1000x600 with 1 Axes>"
      ]
     },
     "metadata": {},
     "output_type": "display_data"
    }
   ],
   "source": [
    "plt.figure(figsize=(10, 6))  # Set the size of the figure\n",
    "sns.histplot(df['SalePrice'], kde=True, color='blue', bins=30)  # Adjust the number of bins as needed\n",
    "plt.xlabel('Sale Price')\n",
    "plt.ylabel('Frequency')\n",
    "plt.title('Sale Price Histogram')\n",
    "plt.show()"
   ]
  },
  {
   "cell_type": "markdown",
   "id": "1f9945d0",
   "metadata": {
    "papermill": {
     "duration": 0.017364,
     "end_time": "2023-11-05T14:10:41.145998",
     "exception": false,
     "start_time": "2023-11-05T14:10:41.128634",
     "status": "completed"
    },
    "tags": []
   },
   "source": [
    "Bar plot will help identify which features have the strongest positive or negative correlation with the sales price"
   ]
  },
  {
   "cell_type": "code",
   "execution_count": 8,
   "id": "f147752e",
   "metadata": {
    "execution": {
     "iopub.execute_input": "2023-11-05T14:10:41.183381Z",
     "iopub.status.busy": "2023-11-05T14:10:41.182989Z",
     "iopub.status.idle": "2023-11-05T14:10:41.189614Z",
     "shell.execute_reply": "2023-11-05T14:10:41.188614Z"
    },
    "papermill": {
     "duration": 0.028144,
     "end_time": "2023-11-05T14:10:41.191903",
     "exception": false,
     "start_time": "2023-11-05T14:10:41.163759",
     "status": "completed"
    },
    "tags": []
   },
   "outputs": [],
   "source": [
    "# Select only the numerical columns (excluding 'Id')\n",
    "numerical_columns = df.select_dtypes(include=['int64', 'float64']).drop(columns=['Id'])"
   ]
  },
  {
   "cell_type": "code",
   "execution_count": 9,
   "id": "3a8ed166",
   "metadata": {
    "execution": {
     "iopub.execute_input": "2023-11-05T14:10:41.229324Z",
     "iopub.status.busy": "2023-11-05T14:10:41.228907Z",
     "iopub.status.idle": "2023-11-05T14:10:41.245636Z",
     "shell.execute_reply": "2023-11-05T14:10:41.244084Z"
    },
    "papermill": {
     "duration": 0.038085,
     "end_time": "2023-11-05T14:10:41.247863",
     "exception": false,
     "start_time": "2023-11-05T14:10:41.209778",
     "status": "completed"
    },
    "tags": []
   },
   "outputs": [
    {
     "name": "stdout",
     "output_type": "stream",
     "text": [
      "SalePrice        1.000000\n",
      "OverallQual      0.790982\n",
      "GrLivArea        0.708624\n",
      "GarageCars       0.640409\n",
      "GarageArea       0.623431\n",
      "TotalBsmtSF      0.613581\n",
      "1stFlrSF         0.605852\n",
      "FullBath         0.560664\n",
      "TotRmsAbvGrd     0.533723\n",
      "YearBuilt        0.522897\n",
      "YearRemodAdd     0.507101\n",
      "GarageYrBlt      0.486362\n",
      "MasVnrArea       0.477493\n",
      "Fireplaces       0.466929\n",
      "BsmtFinSF1       0.386420\n",
      "LotFrontage      0.351799\n",
      "WoodDeckSF       0.324413\n",
      "2ndFlrSF         0.319334\n",
      "OpenPorchSF      0.315856\n",
      "HalfBath         0.284108\n",
      "LotArea          0.263843\n",
      "BsmtFullBath     0.227122\n",
      "BsmtUnfSF        0.214479\n",
      "BedroomAbvGr     0.168213\n",
      "ScreenPorch      0.111447\n",
      "PoolArea         0.092404\n",
      "MoSold           0.046432\n",
      "3SsnPorch        0.044584\n",
      "BsmtFinSF2      -0.011378\n",
      "BsmtHalfBath    -0.016844\n",
      "MiscVal         -0.021190\n",
      "LowQualFinSF    -0.025606\n",
      "YrSold          -0.028923\n",
      "OverallCond     -0.077856\n",
      "MSSubClass      -0.084284\n",
      "EnclosedPorch   -0.128578\n",
      "KitchenAbvGr    -0.135907\n",
      "Name: SalePrice, dtype: float64\n"
     ]
    }
   ],
   "source": [
    "correlation_matrix = numerical_columns.corr()\n",
    "correlation_with_saleprice = correlation_matrix['SalePrice']\n",
    "\n",
    "# Sort the correlations in descending order to see the most positively and negatively correlated features\n",
    "sorted_correlation = correlation_with_saleprice.sort_values(ascending=False)\n",
    "\n",
    "# Display the sorted correlations\n",
    "print(sorted_correlation)"
   ]
  },
  {
   "cell_type": "markdown",
   "id": "dcb9d28c",
   "metadata": {
    "papermill": {
     "duration": 0.017526,
     "end_time": "2023-11-05T14:10:41.283187",
     "exception": false,
     "start_time": "2023-11-05T14:10:41.265661",
     "status": "completed"
    },
    "tags": []
   },
   "source": [
    "A correlation coefficient measures the strength and direction of a linear relationship between two variables. In this case, it indicates how strongly each numerical feature is related to the 'SalePrice' column.\n",
    "\n",
    "A positive correlation coefficient indicates a positive linear relationship, meaning that as the feature increases, the 'SalePrice' tends to increase. For example, 'OverallQual' has a positive correlation of 0.790982, which suggests that as the overall quality of a house increases, the sale price tends to increase as well.\n",
    "\n",
    "A negative correlation coefficient indicates a negative linear relationship, meaning that as the feature increases, the 'SalePrice' tends to decrease. For example, 'KitchenAbvGr' has a negative correlation of -0.135907, which suggests that as the number of kitchens above ground increases, the sale price tends to decrease.\n",
    "\n",
    "The closer the absolute value of the correlation coefficient is to 1, the stronger the linear relationship. For example, 'OverallQual' has a strong positive relationship with 'SalePrice' because the correlation coefficient is close to 1.\n",
    "\n",
    "Features with correlation coefficients close to 0 have a weak linear relationship with 'SalePrice'. For example, 'MiscVal' has a very small correlation coefficient of -0.021190, indicating a weak relationship.\n",
    "\n",
    "Features with very small or close-to-zero correlation coefficients (e.g., 'BsmtFinSF2' with a coefficient of -0.011378) have little to no linear relationship with 'SalePrice'."
   ]
  },
  {
   "cell_type": "code",
   "execution_count": 10,
   "id": "cc5bd74b",
   "metadata": {
    "execution": {
     "iopub.execute_input": "2023-11-05T14:10:41.321485Z",
     "iopub.status.busy": "2023-11-05T14:10:41.321069Z",
     "iopub.status.idle": "2023-11-05T14:10:42.010210Z",
     "shell.execute_reply": "2023-11-05T14:10:42.009160Z"
    },
    "papermill": {
     "duration": 0.71211,
     "end_time": "2023-11-05T14:10:42.013112",
     "exception": false,
     "start_time": "2023-11-05T14:10:41.301002",
     "status": "completed"
    },
    "tags": []
   },
   "outputs": [
    {
     "data": {
      "image/png": "[encoded data removed]",
      "text/plain": [
       "<Figure size 1200x600 with 1 Axes>"
      ]
     },
     "metadata": {},
     "output_type": "display_data"
    }
   ],
   "source": [
    "# Create a bar plot to visualize the correlations with 'SalePrice'\n",
    "plt.figure(figsize=(12, 6))\n",
    "sns.barplot(x=sorted_correlation.values, y=sorted_correlation.index)\n",
    "plt.title('Correlation with Sale Price')\n",
    "plt.xlabel('Correlation Coefficient')\n",
    "plt.ylabel('Features')\n",
    "plt.show()"
   ]
  },
  {
   "cell_type": "markdown",
   "id": "989efa64",
   "metadata": {
    "papermill": {
     "duration": 0.018753,
     "end_time": "2023-11-05T14:10:42.051092",
     "exception": false,
     "start_time": "2023-11-05T14:10:42.032339",
     "status": "completed"
    },
    "tags": []
   },
   "source": [
    "**Feature Selection**"
   ]
  },
  {
   "cell_type": "markdown",
   "id": "35c29294",
   "metadata": {
    "papermill": {
     "duration": 0.018748,
     "end_time": "2023-11-05T14:10:42.088904",
     "exception": false,
     "start_time": "2023-11-05T14:10:42.070156",
     "status": "completed"
    },
    "tags": []
   },
   "source": [
    "Based on the bar plot we will select features which has correlation more than 0.50 and less than -0.50"
   ]
  },
  {
   "cell_type": "code",
   "execution_count": 11,
   "id": "5ee17ed4",
   "metadata": {
    "execution": {
     "iopub.execute_input": "2023-11-05T14:10:42.129528Z",
     "iopub.status.busy": "2023-11-05T14:10:42.128755Z",
     "iopub.status.idle": "2023-11-05T14:10:42.136446Z",
     "shell.execute_reply": "2023-11-05T14:10:42.135157Z"
    },
    "papermill": {
     "duration": 0.030797,
     "end_time": "2023-11-05T14:10:42.138969",
     "exception": false,
     "start_time": "2023-11-05T14:10:42.108172",
     "status": "completed"
    },
    "tags": []
   },
   "outputs": [
    {
     "name": "stdout",
     "output_type": "stream",
     "text": [
      "Index(['SalePrice', 'OverallQual', 'GrLivArea', 'GarageCars', 'GarageArea',\n",
      "       'TotalBsmtSF', '1stFlrSF', 'FullBath', 'TotRmsAbvGrd', 'YearBuilt',\n",
      "       'YearRemodAdd'],\n",
      "      dtype='object')\n"
     ]
    }
   ],
   "source": [
    "# Select columns with correlation >= 0.5 or correlation <= -0.5\n",
    "high_corr_columns = sorted_correlation[(sorted_correlation > 0.5) | (sorted_correlation < -0.5)]\n",
    "\n",
    "# Filter the columns based on correlation\n",
    "selected_columns = high_corr_columns.index\n",
    "\n",
    "# Display the selected columns\n",
    "print(selected_columns)"
   ]
  },
  {
   "cell_type": "code",
   "execution_count": 12,
   "id": "1ca36ad5",
   "metadata": {
    "execution": {
     "iopub.execute_input": "2023-11-05T14:10:42.179418Z",
     "iopub.status.busy": "2023-11-05T14:10:42.179025Z",
     "iopub.status.idle": "2023-11-05T14:10:42.186280Z",
     "shell.execute_reply": "2023-11-05T14:10:42.185031Z"
    },
    "papermill": {
     "duration": 0.030236,
     "end_time": "2023-11-05T14:10:42.188460",
     "exception": false,
     "start_time": "2023-11-05T14:10:42.158224",
     "status": "completed"
    },
    "tags": []
   },
   "outputs": [
    {
     "name": "stdout",
     "output_type": "stream",
     "text": [
      "Index(['MSZoning', 'Street', 'Alley', 'LotShape', 'LandContour', 'Utilities',\n",
      "       'LotConfig', 'LandSlope', 'Neighborhood', 'Condition1', 'Condition2',\n",
      "       'BldgType', 'HouseStyle', 'RoofStyle', 'RoofMatl', 'Exterior1st',\n",
      "       'Exterior2nd', 'MasVnrType', 'ExterQual', 'ExterCond', 'Foundation',\n",
      "       'BsmtQual', 'BsmtCond', 'BsmtExposure', 'BsmtFinType1', 'BsmtFinType2',\n",
      "       'Heating', 'HeatingQC', 'CentralAir', 'Electrical', 'KitchenQual',\n",
      "       'Functional', 'FireplaceQu', 'GarageType', 'GarageFinish', 'GarageQual',\n",
      "       'GarageCond', 'PavedDrive', 'PoolQC', 'Fence', 'MiscFeature',\n",
      "       'SaleType', 'SaleCondition'],\n",
      "      dtype='object')\n"
     ]
    }
   ],
   "source": [
    "categorical_columns = df.select_dtypes(include=['object'])\n",
    "\n",
    "# Display the names of the selected categorical columns\n",
    "print(categorical_columns.columns)"
   ]
  },
  {
   "cell_type": "code",
   "execution_count": 13,
   "id": "7798f066",
   "metadata": {
    "execution": {
     "iopub.execute_input": "2023-11-05T14:10:42.228775Z",
     "iopub.status.busy": "2023-11-05T14:10:42.228356Z",
     "iopub.status.idle": "2023-11-05T14:10:42.244925Z",
     "shell.execute_reply": "2023-11-05T14:10:42.243663Z"
    },
    "papermill": {
     "duration": 0.039989,
     "end_time": "2023-11-05T14:10:42.247733",
     "exception": false,
     "start_time": "2023-11-05T14:10:42.207744",
     "status": "completed"
    },
    "tags": []
   },
   "outputs": [
    {
     "name": "stdout",
     "output_type": "stream",
     "text": [
      "   SalePrice  OverallQual  GrLivArea  GarageCars  GarageArea  TotalBsmtSF  \\\n",
      "0     208500            7       1710           2         548          856   \n",
      "1     181500            6       1262           2         460         1262   \n",
      "2     223500            7       1786           2         608          920   \n",
      "3     140000            7       1717           3         642          756   \n",
      "4     250000            8       2198           3         836         1145   \n",
      "\n",
      "   1stFlrSF  FullBath  TotRmsAbvGrd  YearBuilt  ...  GarageType GarageFinish  \\\n",
      "0       856         2             8       2003  ...      Attchd          RFn   \n",
      "1      1262         2             6       1976  ...      Attchd          RFn   \n",
      "2       920         2             6       2001  ...      Attchd          RFn   \n",
      "3       961         1             7       1915  ...      Detchd          Unf   \n",
      "4      1145         2             9       2000  ...      Attchd          RFn   \n",
      "\n",
      "  GarageQual GarageCond PavedDrive PoolQC Fence MiscFeature SaleType  \\\n",
      "0         TA         TA          Y    NaN   NaN         NaN       WD   \n",
      "1         TA         TA          Y    NaN   NaN         NaN       WD   \n",
      "2         TA         TA          Y    NaN   NaN         NaN       WD   \n",
      "3         TA         TA          Y    NaN   NaN         NaN       WD   \n",
      "4         TA         TA          Y    NaN   NaN         NaN       WD   \n",
      "\n",
      "  SaleCondition  \n",
      "0        Normal  \n",
      "1        Normal  \n",
      "2        Normal  \n",
      "3       Abnorml  \n",
      "4        Normal  \n",
      "\n",
      "[5 rows x 54 columns]\n"
     ]
    }
   ],
   "source": [
    "# Filter the DataFrame to include only the selected columns\n",
    "filtered_df = df[selected_columns]\n",
    "\n",
    "# Concatenate the filtered DataFrame and the categorical columns DataFrame\n",
    "combined_df = pd.concat([filtered_df, categorical_columns], axis=1)\n",
    "\n",
    "# Display the first few rows of the combined DataFrame\n",
    "print(combined_df.head())"
   ]
  },
  {
   "cell_type": "code",
   "execution_count": 14,
   "id": "16072320",
   "metadata": {
    "execution": {
     "iopub.execute_input": "2023-11-05T14:10:42.288769Z",
     "iopub.status.busy": "2023-11-05T14:10:42.288365Z",
     "iopub.status.idle": "2023-11-05T14:10:42.310634Z",
     "shell.execute_reply": "2023-11-05T14:10:42.308955Z"
    },
    "papermill": {
     "duration": 0.045629,
     "end_time": "2023-11-05T14:10:42.313146",
     "exception": false,
     "start_time": "2023-11-05T14:10:42.267517",
     "status": "completed"
    },
    "tags": []
   },
   "outputs": [
    {
     "name": "stdout",
     "output_type": "stream",
     "text": [
      "<class 'pandas.core.frame.DataFrame'>\n",
      "RangeIndex: 1460 entries, 0 to 1459\n",
      "Data columns (total 54 columns):\n",
      " #   Column         Non-Null Count  Dtype \n",
      "---  ------         --------------  ----- \n",
      " 0   SalePrice      1460 non-null   int64 \n",
      " 1   OverallQual    1460 non-null   int64 \n",
      " 2   GrLivArea      1460 non-null   int64 \n",
      " 3   GarageCars     1460 non-null   int64 \n",
      " 4   GarageArea     1460 non-null   int64 \n",
      " 5   TotalBsmtSF    1460 non-null   int64 \n",
      " 6   1stFlrSF       1460 non-null   int64 \n",
      " 7   FullBath       1460 non-null   int64 \n",
      " 8   TotRmsAbvGrd   1460 non-null   int64 \n",
      " 9   YearBuilt      1460 non-null   int64 \n",
      " 10  YearRemodAdd   1460 non-null   int64 \n",
      " 11  MSZoning       1460 non-null   object\n",
      " 12  Street         1460 non-null   object\n",
      " 13  Alley          91 non-null     object\n",
      " 14  LotShape       1460 non-null   object\n",
      " 15  LandContour    1460 non-null   object\n",
      " 16  Utilities      1460 non-null   object\n",
      " 17  LotConfig      1460 non-null   object\n",
      " 18  LandSlope      1460 non-null   object\n",
      " 19  Neighborhood   1460 non-null   object\n",
      " 20  Condition1     1460 non-null   object\n",
      " 21  Condition2     1460 non-null   object\n",
      " 22  BldgType       1460 non-null   object\n",
      " 23  HouseStyle     1460 non-null   object\n",
      " 24  RoofStyle      1460 non-null   object\n",
      " 25  RoofMatl       1460 non-null   object\n",
      " 26  Exterior1st    1460 non-null   object\n",
      " 27  Exterior2nd    1460 non-null   object\n",
      " 28  MasVnrType     588 non-null    object\n",
      " 29  ExterQual      1460 non-null   object\n",
      " 30  ExterCond      1460 non-null   object\n",
      " 31  Foundation     1460 non-null   object\n",
      " 32  BsmtQual       1423 non-null   object\n",
      " 33  BsmtCond       1423 non-null   object\n",
      " 34  BsmtExposure   1422 non-null   object\n",
      " 35  BsmtFinType1   1423 non-null   object\n",
      " 36  BsmtFinType2   1422 non-null   object\n",
      " 37  Heating        1460 non-null   object\n",
      " 38  HeatingQC      1460 non-null   object\n",
      " 39  CentralAir     1460 non-null   object\n",
      " 40  Electrical     1459 non-null   object\n",
      " 41  KitchenQual    1460 non-null   object\n",
      " 42  Functional     1460 non-null   object\n",
      " 43  FireplaceQu    770 non-null    object\n",
      " 44  GarageType     1379 non-null   object\n",
      " 45  GarageFinish   1379 non-null   object\n",
      " 46  GarageQual     1379 non-null   object\n",
      " 47  GarageCond     1379 non-null   object\n",
      " 48  PavedDrive     1460 non-null   object\n",
      " 49  PoolQC         7 non-null      object\n",
      " 50  Fence          281 non-null    object\n",
      " 51  MiscFeature    54 non-null     object\n",
      " 52  SaleType       1460 non-null   object\n",
      " 53  SaleCondition  1460 non-null   object\n",
      "dtypes: int64(11), object(43)\n",
      "memory usage: 616.1+ KB\n"
     ]
    }
   ],
   "source": [
    "combined_df.info()"
   ]
  },
  {
   "cell_type": "code",
   "execution_count": 15,
   "id": "ddb9b0fa",
   "metadata": {
    "execution": {
     "iopub.execute_input": "2023-11-05T14:10:42.358255Z",
     "iopub.status.busy": "2023-11-05T14:10:42.357812Z",
     "iopub.status.idle": "2023-11-05T14:10:42.364744Z",
     "shell.execute_reply": "2023-11-05T14:10:42.363662Z"
    },
    "papermill": {
     "duration": 0.033404,
     "end_time": "2023-11-05T14:10:42.367018",
     "exception": false,
     "start_time": "2023-11-05T14:10:42.333614",
     "status": "completed"
    },
    "tags": []
   },
   "outputs": [
    {
     "data": {
      "text/plain": [
       "(1460, 54)"
      ]
     },
     "execution_count": 15,
     "metadata": {},
     "output_type": "execute_result"
    }
   ],
   "source": [
    "combined_df.shape"
   ]
  },
  {
   "cell_type": "markdown",
   "id": "0c3bb140",
   "metadata": {
    "papermill": {
     "duration": 0.019335,
     "end_time": "2023-11-05T14:10:42.406573",
     "exception": false,
     "start_time": "2023-11-05T14:10:42.387238",
     "status": "completed"
    },
    "tags": []
   },
   "source": [
    "Now lets look on the missing values"
   ]
  },
  {
   "cell_type": "code",
   "execution_count": 16,
   "id": "7d35a723",
   "metadata": {
    "execution": {
     "iopub.execute_input": "2023-11-05T14:10:42.447934Z",
     "iopub.status.busy": "2023-11-05T14:10:42.447490Z",
     "iopub.status.idle": "2023-11-05T14:10:42.465638Z",
     "shell.execute_reply": "2023-11-05T14:10:42.464411Z"
    },
    "papermill": {
     "duration": 0.041705,
     "end_time": "2023-11-05T14:10:42.467929",
     "exception": false,
     "start_time": "2023-11-05T14:10:42.426224",
     "status": "completed"
    },
    "tags": []
   },
   "outputs": [
    {
     "name": "stdout",
     "output_type": "stream",
     "text": [
      "     Column_Name  Missing_Count  Percentage\n",
      "0          Alley           1369   93.767123\n",
      "1     MasVnrType            872   59.726027\n",
      "2       BsmtQual             37    2.534247\n",
      "3       BsmtCond             37    2.534247\n",
      "4   BsmtExposure             38    2.602740\n",
      "5   BsmtFinType1             37    2.534247\n",
      "6   BsmtFinType2             38    2.602740\n",
      "7     Electrical              1    0.068493\n",
      "8    FireplaceQu            690   47.260274\n",
      "9     GarageType             81    5.547945\n",
      "10  GarageFinish             81    5.547945\n",
      "11    GarageQual             81    5.547945\n",
      "12    GarageCond             81    5.547945\n",
      "13        PoolQC           1453   99.520548\n",
      "14         Fence           1179   80.753425\n",
      "15   MiscFeature           1406   96.301370\n"
     ]
    }
   ],
   "source": [
    "#The number of missing values, and the percentage of missing values for each column in combined_df.\n",
    "\n",
    "total_rows = len(combined_df)\n",
    "null_counts = combined_df.isnull().sum()\n",
    "\n",
    "# Display columns with null values and their percentages\n",
    "columns_with_null = null_counts[null_counts > 0]\n",
    "percent_missing = (columns_with_null / total_rows) * 100\n",
    "\n",
    "missing_info = pd.DataFrame({'Column_Name': columns_with_null.index, 'Missing_Count': columns_with_null.values, 'Percentage': percent_missing.values})\n",
    "\n",
    "print(missing_info)"
   ]
  },
  {
   "cell_type": "code",
   "execution_count": 17,
   "id": "b9b796c3",
   "metadata": {
    "execution": {
     "iopub.execute_input": "2023-11-05T14:10:42.511325Z",
     "iopub.status.busy": "2023-11-05T14:10:42.509827Z",
     "iopub.status.idle": "2023-11-05T14:10:43.041261Z",
     "shell.execute_reply": "2023-11-05T14:10:43.040089Z"
    },
    "papermill": {
     "duration": 0.556163,
     "end_time": "2023-11-05T14:10:43.043994",
     "exception": false,
     "start_time": "2023-11-05T14:10:42.487831",
     "status": "completed"
    },
    "tags": []
   },
   "outputs": [
    {
     "data": {
      "text/plain": [
       "<Axes: >"
      ]
     },
     "execution_count": 17,
     "metadata": {},
     "output_type": "execute_result"
    },
    {
     "data": {
      "image/png": "[encoded data removed]",
      "text/plain": [
       "<Figure size 640x480 with 1 Axes>"
      ]
     },
     "metadata": {},
     "output_type": "display_data"
    }
   ],
   "source": [
    "sns.heatmap(combined_df.isnull(),yticklabels=False,cbar=False,cmap='viridis')"
   ]
  },
  {
   "cell_type": "markdown",
   "id": "ac4dacc3",
   "metadata": {
    "papermill": {
     "duration": 0.020955,
     "end_time": "2023-11-05T14:10:43.085857",
     "exception": false,
     "start_time": "2023-11-05T14:10:43.064902",
     "status": "completed"
    },
    "tags": []
   },
   "source": [
    "Drop the columns which has more than 50% of null values"
   ]
  },
  {
   "cell_type": "code",
   "execution_count": 18,
   "id": "74ca1555",
   "metadata": {
    "execution": {
     "iopub.execute_input": "2023-11-05T14:10:43.130191Z",
     "iopub.status.busy": "2023-11-05T14:10:43.129070Z",
     "iopub.status.idle": "2023-11-05T14:10:43.144682Z",
     "shell.execute_reply": "2023-11-05T14:10:43.143714Z"
    },
    "papermill": {
     "duration": 0.040541,
     "end_time": "2023-11-05T14:10:43.147360",
     "exception": false,
     "start_time": "2023-11-05T14:10:43.106819",
     "status": "completed"
    },
    "tags": []
   },
   "outputs": [],
   "source": [
    "# Define the percentage threshold (e.g., 50%)\n",
    "percentage_threshold = 50  # Adjust as needed\n",
    "\n",
    "# Calculate the threshold count based on the percentage\n",
    "total_rows = len(combined_df)\n",
    "null_threshold = (percentage_threshold / 100) * total_rows\n",
    "\n",
    "# Get the column names with null values exceeding the threshold\n",
    "columns_to_drop = combined_df.columns[combined_df.isnull().sum() > null_threshold]\n",
    "\n",
    "# Drop the columns with high null values\n",
    "combined_df = combined_df.drop(columns=columns_to_drop)\n"
   ]
  },
  {
   "cell_type": "code",
   "execution_count": 19,
   "id": "a4364ea5",
   "metadata": {
    "execution": {
     "iopub.execute_input": "2023-11-05T14:10:43.191541Z",
     "iopub.status.busy": "2023-11-05T14:10:43.190301Z",
     "iopub.status.idle": "2023-11-05T14:10:43.206424Z",
     "shell.execute_reply": "2023-11-05T14:10:43.205100Z"
    },
    "papermill": {
     "duration": 0.040548,
     "end_time": "2023-11-05T14:10:43.208695",
     "exception": false,
     "start_time": "2023-11-05T14:10:43.168147",
     "status": "completed"
    },
    "tags": []
   },
   "outputs": [
    {
     "data": {
      "text/plain": [
       "SalePrice          0\n",
       "OverallQual        0\n",
       "GrLivArea          0\n",
       "GarageCars         0\n",
       "GarageArea         0\n",
       "TotalBsmtSF        0\n",
       "1stFlrSF           0\n",
       "FullBath           0\n",
       "TotRmsAbvGrd       0\n",
       "YearBuilt          0\n",
       "YearRemodAdd       0\n",
       "MSZoning           0\n",
       "Street             0\n",
       "LotShape           0\n",
       "LandContour        0\n",
       "Utilities          0\n",
       "LotConfig          0\n",
       "LandSlope          0\n",
       "Neighborhood       0\n",
       "Condition1         0\n",
       "Condition2         0\n",
       "BldgType           0\n",
       "HouseStyle         0\n",
       "RoofStyle          0\n",
       "RoofMatl           0\n",
       "Exterior1st        0\n",
       "Exterior2nd        0\n",
       "ExterQual          0\n",
       "ExterCond          0\n",
       "Foundation         0\n",
       "BsmtQual          37\n",
       "BsmtCond          37\n",
       "BsmtExposure      38\n",
       "BsmtFinType1      37\n",
       "BsmtFinType2      38\n",
       "Heating            0\n",
       "HeatingQC          0\n",
       "CentralAir         0\n",
       "Electrical         1\n",
       "KitchenQual        0\n",
       "Functional         0\n",
       "FireplaceQu      690\n",
       "GarageType        81\n",
       "GarageFinish      81\n",
       "GarageQual        81\n",
       "GarageCond        81\n",
       "PavedDrive         0\n",
       "SaleType           0\n",
       "SaleCondition      0\n",
       "dtype: int64"
      ]
     },
     "execution_count": 19,
     "metadata": {},
     "output_type": "execute_result"
    }
   ],
   "source": [
    "combined_df.isnull().sum()"
   ]
  },
  {
   "cell_type": "code",
   "execution_count": 20,
   "id": "e79e5553",
   "metadata": {
    "execution": {
     "iopub.execute_input": "2023-11-05T14:10:43.253100Z",
     "iopub.status.busy": "2023-11-05T14:10:43.252005Z",
     "iopub.status.idle": "2023-11-05T14:10:43.270149Z",
     "shell.execute_reply": "2023-11-05T14:10:43.269092Z"
    },
    "papermill": {
     "duration": 0.04301,
     "end_time": "2023-11-05T14:10:43.272675",
     "exception": false,
     "start_time": "2023-11-05T14:10:43.229665",
     "status": "completed"
    },
    "tags": []
   },
   "outputs": [],
   "source": [
    "#Filling missing values of categorical columns with the mode \n",
    "\n",
    "# Columns to fill missing values for\n",
    "columns_to_fill = ['BsmtQual', 'BsmtCond', 'BsmtExposure', 'BsmtFinType1', 'BsmtFinType2', 'Electrical','FireplaceQu','GarageFinish','GarageType','GarageQual','GarageCond']\n",
    "\n",
    "# Fill missing values with a specific string (e.g., 'None')\n",
    "fill_value = 'None'\n",
    "\n",
    "for column in columns_to_fill:\n",
    "    mode_value = combined_df[column].mode()[0]  # Calculate the mode for the column\n",
    "    combined_df[column] = combined_df[column].fillna(mode_value)  # Fill missing values with the mode"
   ]
  },
  {
   "cell_type": "code",
   "execution_count": 21,
   "id": "f42711fd",
   "metadata": {
    "execution": {
     "iopub.execute_input": "2023-11-05T14:10:43.316785Z",
     "iopub.status.busy": "2023-11-05T14:10:43.316358Z",
     "iopub.status.idle": "2023-11-05T14:10:43.333229Z",
     "shell.execute_reply": "2023-11-05T14:10:43.332383Z"
    },
    "papermill": {
     "duration": 0.041507,
     "end_time": "2023-11-05T14:10:43.335336",
     "exception": false,
     "start_time": "2023-11-05T14:10:43.293829",
     "status": "completed"
    },
    "tags": []
   },
   "outputs": [
    {
     "data": {
      "text/plain": [
       "SalePrice        0\n",
       "OverallQual      0\n",
       "GrLivArea        0\n",
       "GarageCars       0\n",
       "GarageArea       0\n",
       "TotalBsmtSF      0\n",
       "1stFlrSF         0\n",
       "FullBath         0\n",
       "TotRmsAbvGrd     0\n",
       "YearBuilt        0\n",
       "YearRemodAdd     0\n",
       "MSZoning         0\n",
       "Street           0\n",
       "LotShape         0\n",
       "LandContour      0\n",
       "Utilities        0\n",
       "LotConfig        0\n",
       "LandSlope        0\n",
       "Neighborhood     0\n",
       "Condition1       0\n",
       "Condition2       0\n",
       "BldgType         0\n",
       "HouseStyle       0\n",
       "RoofStyle        0\n",
       "RoofMatl         0\n",
       "Exterior1st      0\n",
       "Exterior2nd      0\n",
       "ExterQual        0\n",
       "ExterCond        0\n",
       "Foundation       0\n",
       "BsmtQual         0\n",
       "BsmtCond         0\n",
       "BsmtExposure     0\n",
       "BsmtFinType1     0\n",
       "BsmtFinType2     0\n",
       "Heating          0\n",
       "HeatingQC        0\n",
       "CentralAir       0\n",
       "Electrical       0\n",
       "KitchenQual      0\n",
       "Functional       0\n",
       "FireplaceQu      0\n",
       "GarageType       0\n",
       "GarageFinish     0\n",
       "GarageQual       0\n",
       "GarageCond       0\n",
       "PavedDrive       0\n",
       "SaleType         0\n",
       "SaleCondition    0\n",
       "dtype: int64"
      ]
     },
     "execution_count": 21,
     "metadata": {},
     "output_type": "execute_result"
    }
   ],
   "source": [
    "combined_df.isnull().sum()"
   ]
  },
  {
   "cell_type": "markdown",
   "id": "9d5b0d20",
   "metadata": {
    "papermill": {
     "duration": 0.021357,
     "end_time": "2023-11-05T14:10:43.378307",
     "exception": false,
     "start_time": "2023-11-05T14:10:43.356950",
     "status": "completed"
    },
    "tags": []
   },
   "source": [
    "**One-Hot Encoding**"
   ]
  },
  {
   "cell_type": "code",
   "execution_count": 22,
   "id": "4f5c0e62",
   "metadata": {
    "execution": {
     "iopub.execute_input": "2023-11-05T14:10:43.423840Z",
     "iopub.status.busy": "2023-11-05T14:10:43.423069Z",
     "iopub.status.idle": "2023-11-05T14:10:43.431444Z",
     "shell.execute_reply": "2023-11-05T14:10:43.430140Z"
    },
    "papermill": {
     "duration": 0.033588,
     "end_time": "2023-11-05T14:10:43.433673",
     "exception": false,
     "start_time": "2023-11-05T14:10:43.400085",
     "status": "completed"
    },
    "tags": []
   },
   "outputs": [
    {
     "name": "stdout",
     "output_type": "stream",
     "text": [
      "['MSZoning', 'Street', 'LotShape', 'LandContour', 'Utilities', 'LotConfig', 'LandSlope', 'Neighborhood', 'Condition1', 'Condition2', 'BldgType', 'HouseStyle', 'RoofStyle', 'RoofMatl', 'Exterior1st', 'Exterior2nd', 'ExterQual', 'ExterCond', 'Foundation', 'BsmtQual', 'BsmtCond', 'BsmtExposure', 'BsmtFinType1', 'BsmtFinType2', 'Heating', 'HeatingQC', 'CentralAir', 'Electrical', 'KitchenQual', 'Functional', 'FireplaceQu', 'GarageType', 'GarageFinish', 'GarageQual', 'GarageCond', 'PavedDrive', 'SaleType', 'SaleCondition']\n"
     ]
    }
   ],
   "source": [
    "# Get the list of column names with the 'object' data type\n",
    "categorical_columns = combined_df.select_dtypes(include=['object']).columns.tolist()\n",
    "\n",
    "# Display the list of categorical variable names\n",
    "print(categorical_columns)"
   ]
  },
  {
   "cell_type": "code",
   "execution_count": 23,
   "id": "dc3ad067",
   "metadata": {
    "execution": {
     "iopub.execute_input": "2023-11-05T14:10:43.479320Z",
     "iopub.status.busy": "2023-11-05T14:10:43.478543Z",
     "iopub.status.idle": "2023-11-05T14:10:43.486654Z",
     "shell.execute_reply": "2023-11-05T14:10:43.485378Z"
    },
    "papermill": {
     "duration": 0.033894,
     "end_time": "2023-11-05T14:10:43.489237",
     "exception": false,
     "start_time": "2023-11-05T14:10:43.455343",
     "status": "completed"
    },
    "tags": []
   },
   "outputs": [],
   "source": [
    "def category_onehot_multcols(multcolumns):\n",
    "    df_final=combined_df\n",
    "    i=0\n",
    "    for fields in multcolumns:\n",
    "        \n",
    "        print(fields)\n",
    "        df1=pd.get_dummies(combined_df[fields],drop_first=True)\n",
    "        \n",
    "        combined_df.drop([fields],axis=1,inplace=True)\n",
    "        if i==0:\n",
    "            df_final=df1.copy()\n",
    "        else:\n",
    "            \n",
    "            df_final=pd.concat([df_final,df1],axis=1)\n",
    "        i=i+1\n",
    "       \n",
    "        \n",
    "    df_final=pd.concat([combined_df,df_final],axis=1)\n",
    "        \n",
    "    return df_final"
   ]
  },
  {
   "cell_type": "code",
   "execution_count": 24,
   "id": "e507a2ed",
   "metadata": {
    "execution": {
     "iopub.execute_input": "2023-11-05T14:10:43.535497Z",
     "iopub.status.busy": "2023-11-05T14:10:43.534357Z",
     "iopub.status.idle": "2023-11-05T14:10:43.639717Z",
     "shell.execute_reply": "2023-11-05T14:10:43.638318Z"
    },
    "papermill": {
     "duration": 0.130888,
     "end_time": "2023-11-05T14:10:43.642148",
     "exception": false,
     "start_time": "2023-11-05T14:10:43.511260",
     "status": "completed"
    },
    "tags": []
   },
   "outputs": [
    {
     "name": "stdout",
     "output_type": "stream",
     "text": [
      "MSZoning\n",
      "Street\n",
      "LotShape\n",
      "LandContour\n",
      "Utilities\n",
      "LotConfig\n",
      "LandSlope\n",
      "Neighborhood\n",
      "Condition1\n",
      "Condition2\n",
      "BldgType\n",
      "HouseStyle\n",
      "RoofStyle\n",
      "RoofMatl\n",
      "Exterior1st\n",
      "Exterior2nd\n",
      "ExterQual\n",
      "ExterCond\n",
      "Foundation\n",
      "BsmtQual\n",
      "BsmtCond\n",
      "BsmtExposure\n",
      "BsmtFinType1\n",
      "BsmtFinType2\n",
      "Heating\n",
      "HeatingQC\n",
      "CentralAir\n",
      "Electrical\n",
      "KitchenQual\n",
      "Functional\n",
      "FireplaceQu\n",
      "GarageType\n",
      "GarageFinish\n",
      "GarageQual\n",
      "GarageCond\n",
      "PavedDrive\n",
      "SaleType\n",
      "SaleCondition\n"
     ]
    }
   ],
   "source": [
    "combined_df=category_onehot_multcols(categorical_columns)\n"
   ]
  },
  {
   "cell_type": "code",
   "execution_count": 25,
   "id": "3e62afae",
   "metadata": {
    "execution": {
     "iopub.execute_input": "2023-11-05T14:10:43.688005Z",
     "iopub.status.busy": "2023-11-05T14:10:43.687581Z",
     "iopub.status.idle": "2023-11-05T14:10:43.693668Z",
     "shell.execute_reply": "2023-11-05T14:10:43.692821Z"
    },
    "papermill": {
     "duration": 0.031619,
     "end_time": "2023-11-05T14:10:43.695734",
     "exception": false,
     "start_time": "2023-11-05T14:10:43.664115",
     "status": "completed"
    },
    "tags": []
   },
   "outputs": [
    {
     "data": {
      "text/plain": [
       "(1460, 208)"
      ]
     },
     "execution_count": 25,
     "metadata": {},
     "output_type": "execute_result"
    }
   ],
   "source": [
    "combined_df.shape"
   ]
  },
  {
   "cell_type": "code",
   "execution_count": 26,
   "id": "1020db13",
   "metadata": {
    "execution": {
     "iopub.execute_input": "2023-11-05T14:10:43.741672Z",
     "iopub.status.busy": "2023-11-05T14:10:43.740662Z",
     "iopub.status.idle": "2023-11-05T14:10:43.748979Z",
     "shell.execute_reply": "2023-11-05T14:10:43.747838Z"
    },
    "papermill": {
     "duration": 0.033763,
     "end_time": "2023-11-05T14:10:43.751343",
     "exception": false,
     "start_time": "2023-11-05T14:10:43.717580",
     "status": "completed"
    },
    "tags": []
   },
   "outputs": [],
   "source": [
    "combined_df =combined_df.loc[:,~combined_df.columns.duplicated()]"
   ]
  },
  {
   "cell_type": "markdown",
   "id": "e75d4fec",
   "metadata": {
    "papermill": {
     "duration": 0.021538,
     "end_time": "2023-11-05T14:10:43.795107",
     "exception": false,
     "start_time": "2023-11-05T14:10:43.773569",
     "status": "completed"
    },
    "tags": []
   },
   "source": [
    "Splitting the data into X and y chunks"
   ]
  },
  {
   "cell_type": "code",
   "execution_count": 27,
   "id": "c4b84d26",
   "metadata": {
    "execution": {
     "iopub.execute_input": "2023-11-05T14:10:43.840547Z",
     "iopub.status.busy": "2023-11-05T14:10:43.840123Z",
     "iopub.status.idle": "2023-11-05T14:10:43.847739Z",
     "shell.execute_reply": "2023-11-05T14:10:43.846673Z"
    },
    "papermill": {
     "duration": 0.03321,
     "end_time": "2023-11-05T14:10:43.849917",
     "exception": false,
     "start_time": "2023-11-05T14:10:43.816707",
     "status": "completed"
    },
    "tags": []
   },
   "outputs": [],
   "source": [
    "X = combined_df.drop(\"SalePrice\", axis=1)\n",
    "y = combined_df[\"SalePrice\"]"
   ]
  },
  {
   "cell_type": "markdown",
   "id": "8e0141c4",
   "metadata": {
    "papermill": {
     "duration": 0.021686,
     "end_time": "2023-11-05T14:10:43.893399",
     "exception": false,
     "start_time": "2023-11-05T14:10:43.871713",
     "status": "completed"
    },
    "tags": []
   },
   "source": [
    "**Train-Test Split**"
   ]
  },
  {
   "cell_type": "code",
   "execution_count": 28,
   "id": "8d8f6dc1",
   "metadata": {
    "execution": {
     "iopub.execute_input": "2023-11-05T14:10:43.939282Z",
     "iopub.status.busy": "2023-11-05T14:10:43.938816Z",
     "iopub.status.idle": "2023-11-05T14:10:43.949352Z",
     "shell.execute_reply": "2023-11-05T14:10:43.948558Z"
    },
    "papermill": {
     "duration": 0.035793,
     "end_time": "2023-11-05T14:10:43.951501",
     "exception": false,
     "start_time": "2023-11-05T14:10:43.915708",
     "status": "completed"
    },
    "tags": []
   },
   "outputs": [],
   "source": [
    "from sklearn.model_selection import train_test_split\n",
    "\n",
    "\n",
    "# Split the dataset into training and testing sets (e.g., 80% for training and 20% for testing)\n",
    "X_train, X_test, y_train, y_test = train_test_split(X, y, test_size=0.2, random_state=42)"
   ]
  },
  {
   "cell_type": "markdown",
   "id": "842b6dd7",
   "metadata": {
    "papermill": {
     "duration": 0.021634,
     "end_time": "2023-11-05T14:10:43.994893",
     "exception": false,
     "start_time": "2023-11-05T14:10:43.973259",
     "status": "completed"
    },
    "tags": []
   },
   "source": [
    "**Model Selection**"
   ]
  },
  {
   "cell_type": "markdown",
   "id": "39910520",
   "metadata": {
    "papermill": {
     "duration": 0.021862,
     "end_time": "2023-11-05T14:10:44.038499",
     "exception": false,
     "start_time": "2023-11-05T14:10:44.016637",
     "status": "completed"
    },
    "tags": []
   },
   "source": [
    "**Random Forest**"
   ]
  },
  {
   "cell_type": "code",
   "execution_count": 29,
   "id": "64ecb085",
   "metadata": {
    "execution": {
     "iopub.execute_input": "2023-11-05T14:10:44.083996Z",
     "iopub.status.busy": "2023-11-05T14:10:44.083241Z",
     "iopub.status.idle": "2023-11-05T14:10:45.686884Z",
     "shell.execute_reply": "2023-11-05T14:10:45.685692Z"
    },
    "papermill": {
     "duration": 1.629482,
     "end_time": "2023-11-05T14:10:45.689905",
     "exception": false,
     "start_time": "2023-11-05T14:10:44.060423",
     "status": "completed"
    },
    "tags": []
   },
   "outputs": [
    {
     "data": {
      "text/html": [
       "<style>#sk-container-id-1 {color: black;background-color: white;}#sk-container-id-1 pre{padding: 0;}#sk-container-id-1 div.sk-toggleable {background-color: white;}#sk-container-id-1 label.sk-toggleable__label {cursor: pointer;display: block;width: 100%;margin-bottom: 0;padding: 0.3em;box-sizing: border-box;text-align: center;}#sk-container-id-1 label.sk-toggleable__label-arrow:before {content: \"▸\";float: left;margin-right: 0.25em;color: #696969;}#sk-container-id-1 label.sk-toggleable__label-arrow:hover:before {color: black;}#sk-container-id-1 div.sk-estimator:hover label.sk-toggleable__label-arrow:before {color: black;}#sk-container-id-1 div.sk-toggleable__content {max-height: 0;max-width: 0;overflow: hidden;text-align: left;background-color: #f0f8ff;}#sk-container-id-1 div.sk-toggleable__content pre {margin: 0.2em;color: black;border-radius: 0.25em;background-color: #f0f8ff;}#sk-container-id-1 input.sk-toggleable__control:checked~div.sk-toggleable__content {max-height: 200px;max-width: 100%;overflow: auto;}#sk-container-id-1 input.sk-toggleable__control:checked~label.sk-toggleable__label-arrow:before {content: \"▾\";}#sk-container-id-1 div.sk-estimator input.sk-toggleable__control:checked~label.sk-toggleable__label {background-color: #d4ebff;}#sk-container-id-1 div.sk-label input.sk-toggleable__control:checked~label.sk-toggleable__label {background-color: #d4ebff;}#sk-container-id-1 input.sk-hidden--visually {border: 0;clip: rect(1px 1px 1px 1px);clip: rect(1px, 1px, 1px, 1px);height: 1px;margin: -1px;overflow: hidden;padding: 0;position: absolute;width: 1px;}#sk-container-id-1 div.sk-estimator {font-family: monospace;background-color: #f0f8ff;border: 1px dotted black;border-radius: 0.25em;box-sizing: border-box;margin-bottom: 0.5em;}#sk-container-id-1 div.sk-estimator:hover {background-color: #d4ebff;}#sk-container-id-1 div.sk-parallel-item::after {content: \"\";width: 100%;border-bottom: 1px solid gray;flex-grow: 1;}#sk-container-id-1 div.sk-label:hover label.sk-toggleable__label {background-color: #d4ebff;}#sk-container-id-1 div.sk-serial::before {content: \"\";position: absolute;border-left: 1px solid gray;box-sizing: border-box;top: 0;bottom: 0;left: 50%;z-index: 0;}#sk-container-id-1 div.sk-serial {display: flex;flex-direction: column;align-items: center;background-color: white;padding-right: 0.2em;padding-left: 0.2em;position: relative;}#sk-container-id-1 div.sk-item {position: relative;z-index: 1;}#sk-container-id-1 div.sk-parallel {display: flex;align-items: stretch;justify-content: center;background-color: white;position: relative;}#sk-container-id-1 div.sk-item::before, #sk-container-id-1 div.sk-parallel-item::before {content: \"\";position: absolute;border-left: 1px solid gray;box-sizing: border-box;top: 0;bottom: 0;left: 50%;z-index: -1;}#sk-container-id-1 div.sk-parallel-item {display: flex;flex-direction: column;z-index: 1;position: relative;background-color: white;}#sk-container-id-1 div.sk-parallel-item:first-child::after {align-self: flex-end;width: 50%;}#sk-container-id-1 div.sk-parallel-item:last-child::after {align-self: flex-start;width: 50%;}#sk-container-id-1 div.sk-parallel-item:only-child::after {width: 0;}#sk-container-id-1 div.sk-dashed-wrapped {border: 1px dashed gray;margin: 0 0.4em 0.5em 0.4em;box-sizing: border-box;padding-bottom: 0.4em;background-color: white;}#sk-container-id-1 div.sk-label label {font-family: monospace;font-weight: bold;display: inline-block;line-height: 1.2em;}#sk-container-id-1 div.sk-label-container {text-align: center;}#sk-container-id-1 div.sk-container {/* jupyter's `normalize.less` sets `[hidden] { display: none; }` but bootstrap.min.css set `[hidden] { display: none !important; }` so we also need the `!important` here to be able to override the default hidden behavior on the sphinx rendered scikit-learn.org. See: https://github.com/scikit-learn/scikit-learn/issues/21755 */display: inline-block !important;position: relative;}#sk-container-id-1 div.sk-text-repr-fallback {display: none;}</style><div id=\"sk-container-id-1\" class=\"sk-top-container\"><div class=\"sk-text-repr-fallback\"><pre>RandomForestRegressor(random_state=42)</pre><b>In a Jupyter environment, please rerun this cell to show the HTML representation or trust the notebook. <br />On GitHub, the HTML representation is unable to render, please try loading this page with nbviewer.org.</b></div><div class=\"sk-container\" hidden><div class=\"sk-item\"><div class=\"sk-estimator sk-toggleable\"><input class=\"sk-toggleable__control sk-hidden--visually\" id=\"sk-estimator-id-1\" type=\"checkbox\" checked><label for=\"sk-estimator-id-1\" class=\"sk-toggleable__label sk-toggleable__label-arrow\">RandomForestRegressor</label><div class=\"sk-toggleable__content\"><pre>RandomForestRegressor(random_state=42)</pre></div></div></div></div></div>"
      ],
      "text/plain": [
       "RandomForestRegressor(random_state=42)"
      ]
     },
     "execution_count": 29,
     "metadata": {},
     "output_type": "execute_result"
    }
   ],
   "source": [
    "from sklearn.ensemble import RandomForestRegressor\n",
    "\n",
    "rf_model = RandomForestRegressor(n_estimators=100, random_state=42)\n",
    "rf_model.fit(X_train, y_train)"
   ]
  },
  {
   "cell_type": "markdown",
   "id": "80383903",
   "metadata": {
    "papermill": {
     "duration": 0.022068,
     "end_time": "2023-11-05T14:10:45.739749",
     "exception": false,
     "start_time": "2023-11-05T14:10:45.717681",
     "status": "completed"
    },
    "tags": []
   },
   "source": [
    "**Model Evaluation:**"
   ]
  },
  {
   "cell_type": "code",
   "execution_count": 30,
   "id": "6601bcfc",
   "metadata": {
    "execution": {
     "iopub.execute_input": "2023-11-05T14:10:45.792543Z",
     "iopub.status.busy": "2023-11-05T14:10:45.791122Z",
     "iopub.status.idle": "2023-11-05T14:10:45.820090Z",
     "shell.execute_reply": "2023-11-05T14:10:45.819020Z"
    },
    "papermill": {
     "duration": 0.060827,
     "end_time": "2023-11-05T14:10:45.822964",
     "exception": false,
     "start_time": "2023-11-05T14:10:45.762137",
     "status": "completed"
    },
    "tags": []
   },
   "outputs": [
    {
     "name": "stdout",
     "output_type": "stream",
     "text": [
      "MAE: 17763.43\n",
      "MSE: 832092802.97\n",
      "RMSE: 28846.02\n",
      "R-squared: 0.89\n"
     ]
    }
   ],
   "source": [
    "from sklearn.metrics import mean_absolute_error, mean_squared_error, r2_score\n",
    "\n",
    "y_pred = rf_model.predict(X_test)\n",
    "mae = mean_absolute_error(y_test, y_pred)\n",
    "mse = mean_squared_error(y_test, y_pred)\n",
    "rmse = np.sqrt(mse)  # Calculate RMSE as the square root of MSE\n",
    "r2 = r2_score(y_test, y_pred)\n",
    "\n",
    "print(f\"MAE: {mae:.2f}\")\n",
    "print(f\"MSE: {mse:.2f}\")\n",
    "print(f\"RMSE: {rmse:.2f}\")\n",
    "print(f\"R-squared: {r2:.2f}\")"
   ]
  },
  {
   "cell_type": "code",
   "execution_count": 31,
   "id": "bf2fb654",
   "metadata": {
    "execution": {
     "iopub.execute_input": "2023-11-05T14:10:45.875367Z",
     "iopub.status.busy": "2023-11-05T14:10:45.874360Z",
     "iopub.status.idle": "2023-11-05T14:10:45.884447Z",
     "shell.execute_reply": "2023-11-05T14:10:45.883245Z"
    },
    "papermill": {
     "duration": 0.036744,
     "end_time": "2023-11-05T14:10:45.886787",
     "exception": false,
     "start_time": "2023-11-05T14:10:45.850043",
     "status": "completed"
    },
    "tags": []
   },
   "outputs": [
    {
     "name": "stdout",
     "output_type": "stream",
     "text": [
      "Root Mean Squared Error (RMSE) with logarithm transformation: 0.16\n"
     ]
    }
   ],
   "source": [
    "#Calculate the natural logarithm of the predicted and actual values\n",
    "y_pred_log = np.log(y_pred)\n",
    "y_test_log = np.log(y_test)\n",
    "\n",
    "# Calculate the squared differences between the logarithms\n",
    "squared_diff = (y_pred_log - y_test_log)**2\n",
    "\n",
    "# Calculate the mean squared difference\n",
    "mean_squared_diff = np.mean(squared_diff)\n",
    "\n",
    "# Calculate RMSE as the square root of the mean squared difference\n",
    "rmse = np.sqrt(mean_squared_diff)\n",
    "\n",
    "print(f\"Root Mean Squared Error (RMSE) with logarithm transformation: {rmse:.2f}\")"
   ]
  },
  {
   "cell_type": "markdown",
   "id": "b95b8f48",
   "metadata": {
    "papermill": {
     "duration": 0.022452,
     "end_time": "2023-11-05T14:10:45.931962",
     "exception": false,
     "start_time": "2023-11-05T14:10:45.909510",
     "status": "completed"
    },
    "tags": []
   },
   "source": [
    "Hyperparameter optimization of the Random Forest Model"
   ]
  },
  {
   "cell_type": "code",
   "execution_count": 32,
   "id": "db7f7f2e",
   "metadata": {
    "execution": {
     "iopub.execute_input": "2023-11-05T14:10:45.995016Z",
     "iopub.status.busy": "2023-11-05T14:10:45.994595Z",
     "iopub.status.idle": "2023-11-05T14:17:05.505376Z",
     "shell.execute_reply": "2023-11-05T14:17:05.503992Z"
    },
    "papermill": {
     "duration": 379.564973,
     "end_time": "2023-11-05T14:17:05.529973",
     "exception": false,
     "start_time": "2023-11-05T14:10:45.965000",
     "status": "completed"
    },
    "tags": []
   },
   "outputs": [
    {
     "name": "stdout",
     "output_type": "stream",
     "text": [
      "Best Hyperparameters: {'max_depth': 20, 'min_samples_leaf': 2, 'min_samples_split': 2, 'n_estimators': 300}\n",
      "RMSE with Best Model: 29079.04\n"
     ]
    }
   ],
   "source": [
    "from sklearn.model_selection import GridSearchCV\n",
    "\n",
    "# Define the hyperparameter grid to search\n",
    "param_grid = {\n",
    "    'n_estimators': [100, 200, 300],\n",
    "    'max_depth': [None, 10, 20, 30],\n",
    "    'min_samples_split': [2, 5, 10],\n",
    "    'min_samples_leaf': [1, 2, 4]\n",
    "}\n",
    "\n",
    "# Create the Random Forest regressor\n",
    "rf_model = RandomForestRegressor(random_state=42)\n",
    "\n",
    "# Create a GridSearchCV object with cross-validation\n",
    "grid_search = GridSearchCV(estimator=rf_model, param_grid=param_grid, cv=5, n_jobs=-1, scoring='neg_mean_squared_error')\n",
    "\n",
    "# Fit the grid search to the training data\n",
    "grid_search.fit(X_train, y_train)\n",
    "\n",
    "# Get the best hyperparameters\n",
    "best_params = grid_search.best_params_\n",
    "\n",
    "# Get the best model\n",
    "best_rf_model = grid_search.best_estimator_\n",
    "\n",
    "# Evaluate the best model on the test data\n",
    "y_pred = best_rf_model.predict(X_test)\n",
    "rmse = np.sqrt(mean_squared_error(y_test, y_pred))\n",
    "\n",
    "print(\"Best Hyperparameters:\", best_params)\n",
    "print(f\"RMSE with Best Model: {rmse:.2f}\")"
   ]
  },
  {
   "cell_type": "markdown",
   "id": "3610bda1",
   "metadata": {
    "papermill": {
     "duration": 0.0228,
     "end_time": "2023-11-05T14:17:05.575567",
     "exception": false,
     "start_time": "2023-11-05T14:17:05.552767",
     "status": "completed"
    },
    "tags": []
   },
   "source": [
    "**GradientBoostingRegressor**"
   ]
  },
  {
   "cell_type": "code",
   "execution_count": 33,
   "id": "f3d8a9f2",
   "metadata": {
    "execution": {
     "iopub.execute_input": "2023-11-05T14:17:05.623734Z",
     "iopub.status.busy": "2023-11-05T14:17:05.623280Z",
     "iopub.status.idle": "2023-11-05T14:17:06.141832Z",
     "shell.execute_reply": "2023-11-05T14:17:06.140662Z"
    },
    "papermill": {
     "duration": 0.545618,
     "end_time": "2023-11-05T14:17:06.144281",
     "exception": false,
     "start_time": "2023-11-05T14:17:05.598663",
     "status": "completed"
    },
    "tags": []
   },
   "outputs": [
    {
     "data": {
      "text/html": [
       "<style>#sk-container-id-2 {color: black;background-color: white;}#sk-container-id-2 pre{padding: 0;}#sk-container-id-2 div.sk-toggleable {background-color: white;}#sk-container-id-2 label.sk-toggleable__label {cursor: pointer;display: block;width: 100%;margin-bottom: 0;padding: 0.3em;box-sizing: border-box;text-align: center;}#sk-container-id-2 label.sk-toggleable__label-arrow:before {content: \"▸\";float: left;margin-right: 0.25em;color: #696969;}#sk-container-id-2 label.sk-toggleable__label-arrow:hover:before {color: black;}#sk-container-id-2 div.sk-estimator:hover label.sk-toggleable__label-arrow:before {color: black;}#sk-container-id-2 div.sk-toggleable__content {max-height: 0;max-width: 0;overflow: hidden;text-align: left;background-color: #f0f8ff;}#sk-container-id-2 div.sk-toggleable__content pre {margin: 0.2em;color: black;border-radius: 0.25em;background-color: #f0f8ff;}#sk-container-id-2 input.sk-toggleable__control:checked~div.sk-toggleable__content {max-height: 200px;max-width: 100%;overflow: auto;}#sk-container-id-2 input.sk-toggleable__control:checked~label.sk-toggleable__label-arrow:before {content: \"▾\";}#sk-container-id-2 div.sk-estimator input.sk-toggleable__control:checked~label.sk-toggleable__label {background-color: #d4ebff;}#sk-container-id-2 div.sk-label input.sk-toggleable__control:checked~label.sk-toggleable__label {background-color: #d4ebff;}#sk-container-id-2 input.sk-hidden--visually {border: 0;clip: rect(1px 1px 1px 1px);clip: rect(1px, 1px, 1px, 1px);height: 1px;margin: -1px;overflow: hidden;padding: 0;position: absolute;width: 1px;}#sk-container-id-2 div.sk-estimator {font-family: monospace;background-color: #f0f8ff;border: 1px dotted black;border-radius: 0.25em;box-sizing: border-box;margin-bottom: 0.5em;}#sk-container-id-2 div.sk-estimator:hover {background-color: #d4ebff;}#sk-container-id-2 div.sk-parallel-item::after {content: \"\";width: 100%;border-bottom: 1px solid gray;flex-grow: 1;}#sk-container-id-2 div.sk-label:hover label.sk-toggleable__label {background-color: #d4ebff;}#sk-container-id-2 div.sk-serial::before {content: \"\";position: absolute;border-left: 1px solid gray;box-sizing: border-box;top: 0;bottom: 0;left: 50%;z-index: 0;}#sk-container-id-2 div.sk-serial {display: flex;flex-direction: column;align-items: center;background-color: white;padding-right: 0.2em;padding-left: 0.2em;position: relative;}#sk-container-id-2 div.sk-item {position: relative;z-index: 1;}#sk-container-id-2 div.sk-parallel {display: flex;align-items: stretch;justify-content: center;background-color: white;position: relative;}#sk-container-id-2 div.sk-item::before, #sk-container-id-2 div.sk-parallel-item::before {content: \"\";position: absolute;border-left: 1px solid gray;box-sizing: border-box;top: 0;bottom: 0;left: 50%;z-index: -1;}#sk-container-id-2 div.sk-parallel-item {display: flex;flex-direction: column;z-index: 1;position: relative;background-color: white;}#sk-container-id-2 div.sk-parallel-item:first-child::after {align-self: flex-end;width: 50%;}#sk-container-id-2 div.sk-parallel-item:last-child::after {align-self: flex-start;width: 50%;}#sk-container-id-2 div.sk-parallel-item:only-child::after {width: 0;}#sk-container-id-2 div.sk-dashed-wrapped {border: 1px dashed gray;margin: 0 0.4em 0.5em 0.4em;box-sizing: border-box;padding-bottom: 0.4em;background-color: white;}#sk-container-id-2 div.sk-label label {font-family: monospace;font-weight: bold;display: inline-block;line-height: 1.2em;}#sk-container-id-2 div.sk-label-container {text-align: center;}#sk-container-id-2 div.sk-container {/* jupyter's `normalize.less` sets `[hidden] { display: none; }` but bootstrap.min.css set `[hidden] { display: none !important; }` so we also need the `!important` here to be able to override the default hidden behavior on the sphinx rendered scikit-learn.org. See: https://github.com/scikit-learn/scikit-learn/issues/21755 */display: inline-block !important;position: relative;}#sk-container-id-2 div.sk-text-repr-fallback {display: none;}</style><div id=\"sk-container-id-2\" class=\"sk-top-container\"><div class=\"sk-text-repr-fallback\"><pre>GradientBoostingRegressor(random_state=42)</pre><b>In a Jupyter environment, please rerun this cell to show the HTML representation or trust the notebook. <br />On GitHub, the HTML representation is unable to render, please try loading this page with nbviewer.org.</b></div><div class=\"sk-container\" hidden><div class=\"sk-item\"><div class=\"sk-estimator sk-toggleable\"><input class=\"sk-toggleable__control sk-hidden--visually\" id=\"sk-estimator-id-2\" type=\"checkbox\" checked><label for=\"sk-estimator-id-2\" class=\"sk-toggleable__label sk-toggleable__label-arrow\">GradientBoostingRegressor</label><div class=\"sk-toggleable__content\"><pre>GradientBoostingRegressor(random_state=42)</pre></div></div></div></div></div>"
      ],
      "text/plain": [
       "GradientBoostingRegressor(random_state=42)"
      ]
     },
     "execution_count": 33,
     "metadata": {},
     "output_type": "execute_result"
    }
   ],
   "source": [
    "from sklearn.ensemble import GradientBoostingRegressor\n",
    "\n",
    "gb_model = GradientBoostingRegressor(n_estimators=100, learning_rate=0.1, random_state=42)\n",
    "gb_model.fit(X_train, y_train)"
   ]
  },
  {
   "cell_type": "code",
   "execution_count": 34,
   "id": "a0f10ab7",
   "metadata": {
    "execution": {
     "iopub.execute_input": "2023-11-05T14:17:06.192945Z",
     "iopub.status.busy": "2023-11-05T14:17:06.192393Z",
     "iopub.status.idle": "2023-11-05T14:17:06.209292Z",
     "shell.execute_reply": "2023-11-05T14:17:06.207966Z"
    },
    "papermill": {
     "duration": 0.043884,
     "end_time": "2023-11-05T14:17:06.211706",
     "exception": false,
     "start_time": "2023-11-05T14:17:06.167822",
     "status": "completed"
    },
    "tags": []
   },
   "outputs": [
    {
     "name": "stdout",
     "output_type": "stream",
     "text": [
      "MAE: 18160.37\n",
      "MSE: 763635799.45\n",
      "RMSE: 27633.96\n",
      "R-squared: 0.90\n"
     ]
    }
   ],
   "source": [
    "# Make predictions on the test data\n",
    "y_pred = gb_model.predict(X_test)\n",
    "\n",
    "# Calculate evaluation metrics\n",
    "mae = mean_absolute_error(y_test, y_pred)\n",
    "mse = mean_squared_error(y_test, y_pred)\n",
    "rmse = np.sqrt(mse)  # Calculate RMSE as the square root of MSE\n",
    "r2 = r2_score(y_test, y_pred)\n",
    "\n",
    "print(f\"MAE: {mae:.2f}\")\n",
    "print(f\"MSE: {mse:.2f}\")\n",
    "print(f\"RMSE: {rmse:.2f}\")\n",
    "print(f\"R-squared: {r2:.2f}\")"
   ]
  },
  {
   "cell_type": "code",
   "execution_count": 35,
   "id": "7aec446e",
   "metadata": {
    "execution": {
     "iopub.execute_input": "2023-11-05T14:17:06.260222Z",
     "iopub.status.busy": "2023-11-05T14:17:06.259453Z",
     "iopub.status.idle": "2023-11-05T14:17:06.267421Z",
     "shell.execute_reply": "2023-11-05T14:17:06.266076Z"
    },
    "papermill": {
     "duration": 0.035438,
     "end_time": "2023-11-05T14:17:06.270227",
     "exception": false,
     "start_time": "2023-11-05T14:17:06.234789",
     "status": "completed"
    },
    "tags": []
   },
   "outputs": [
    {
     "name": "stdout",
     "output_type": "stream",
     "text": [
      "Root Mean Squared Error (RMSE) with logarithmic transformation: 0.16\n"
     ]
    }
   ],
   "source": [
    "# Assuming y_pred and y_test are your predicted and actual sales prices\n",
    "\n",
    "# Calculate the natural logarithm of the predicted and actual sales prices\n",
    "y_pred_log = np.log(y_pred)\n",
    "y_test_log = np.log(y_test)\n",
    "\n",
    "# Calculate the mean squared error (MSE) between the logarithms\n",
    "mse = mean_squared_error(y_test_log, y_pred_log)\n",
    "\n",
    "# Calculate the RMSE as the square root of the MSE\n",
    "rmse = np.sqrt(mse)\n",
    "\n",
    "print(f\"Root Mean Squared Error (RMSE) with logarithmic transformation: {rmse:.2f}\")"
   ]
  },
  {
   "cell_type": "code",
   "execution_count": 36,
   "id": "fe6f8116",
   "metadata": {
    "execution": {
     "iopub.execute_input": "2023-11-05T14:17:06.317980Z",
     "iopub.status.busy": "2023-11-05T14:17:06.317517Z",
     "iopub.status.idle": "2023-11-05T14:38:14.125018Z",
     "shell.execute_reply": "2023-11-05T14:38:14.123846Z"
    },
    "papermill": {
     "duration": 1267.834919,
     "end_time": "2023-11-05T14:38:14.128144",
     "exception": false,
     "start_time": "2023-11-05T14:17:06.293225",
     "status": "completed"
    },
    "tags": []
   },
   "outputs": [],
   "source": [
    "from sklearn.ensemble import GradientBoostingRegressor\n",
    "\n",
    "# Define the parameter grid to search\n",
    "param_grid = {\n",
    "    'n_estimators': [100, 200, 300],\n",
    "    'learning_rate': [0.01, 0.1, 0.2],\n",
    "    'max_depth': [3, 4, 5],\n",
    "    'min_samples_split': [2, 5, 10],\n",
    "    'min_samples_leaf': [1, 2, 4]\n",
    "}\n",
    "\n",
    "# Create the Gradient Boosting Regressor\n",
    "gb_model = GradientBoostingRegressor(random_state=42)\n",
    "\n",
    "# Initialize GridSearchCV with the model, parameter grid, and scoring metric\n",
    "grid_search = GridSearchCV(estimator=gb_model, param_grid=param_grid, scoring='neg_mean_squared_error', cv=5)\n",
    "\n",
    "# Fit the grid search to your data\n",
    "grid_search.fit(X_train, y_train)\n",
    "\n",
    "# Get the best hyperparameters\n",
    "best_params = grid_search.best_params_\n",
    "\n",
    "# Create a GradientBoostingRegressor with the best hyperparameters\n",
    "best_gb_model = GradientBoostingRegressor(random_state=42, **best_params)\n",
    "\n",
    "# Train the model with the training data\n",
    "best_gb_model.fit(X_train, y_train)\n",
    "\n",
    "# Make predictions with the tuned model\n",
    "y_pred_tuned = best_gb_model.predict(X_test)"
   ]
  },
  {
   "cell_type": "code",
   "execution_count": 37,
   "id": "0e59015a",
   "metadata": {
    "execution": {
     "iopub.execute_input": "2023-11-05T14:38:14.176715Z",
     "iopub.status.busy": "2023-11-05T14:38:14.176286Z",
     "iopub.status.idle": "2023-11-05T14:38:14.183691Z",
     "shell.execute_reply": "2023-11-05T14:38:14.182293Z"
    },
    "papermill": {
     "duration": 0.034179,
     "end_time": "2023-11-05T14:38:14.186124",
     "exception": false,
     "start_time": "2023-11-05T14:38:14.151945",
     "status": "completed"
    },
    "tags": []
   },
   "outputs": [
    {
     "name": "stdout",
     "output_type": "stream",
     "text": [
      "Best Hyperparameters: {'learning_rate': 0.1, 'max_depth': 4, 'min_samples_leaf': 4, 'min_samples_split': 10, 'n_estimators': 300}\n",
      "RMSE with Best Model: 28619.18629092514\n"
     ]
    }
   ],
   "source": [
    "# Calculate RMSE for the predictions\n",
    "rmse_tuned = np.sqrt(mean_squared_error(y_test, y_pred_tuned))\n",
    "print(\"Best Hyperparameters:\", best_params)\n",
    "print(\"RMSE with Best Model:\", rmse_tuned)"
   ]
  },
  {
   "cell_type": "markdown",
   "id": "8765c1e0",
   "metadata": {
    "papermill": {
     "duration": 0.022618,
     "end_time": "2023-11-05T14:38:14.231819",
     "exception": false,
     "start_time": "2023-11-05T14:38:14.209201",
     "status": "completed"
    },
    "tags": []
   },
   "source": [
    "Both models perform well, and their RMSE values are close. However, the GradientBoostingRegressor model has a slightly lower RMSE, indicating better predictive performance. Therefore, the GradientBoostingRegressor model is the better model for this house price prediction task."
   ]
  }
 ],
 "metadata": {
  "kernelspec": {
   "display_name": "Python 3",
   "language": "python",
   "name": "python3"
  },
  "language_info": {
   "codemirror_mode": {
    "name": "ipython",
    "version": 3
   },
   "file_extension": ".py",
   "mimetype": "text/x-python",
   "name": "python",
   "nbconvert_exporter": "python",
   "pygments_lexer": "ipython3",
   "version": "3.10.12"
  },
  "papermill": {
   "default_parameters": {},
   "duration": 1664.642454,
   "end_time": "2023-11-05T14:38:16.879846",
   "environment_variables": {},
   "exception": null,
   "input_path": "__notebook__.ipynb",
   "output_path": "__notebook__.ipynb",
   "parameters": {},
   "start_time": "2023-11-05T14:10:32.237392",
   "version": "2.4.0"
  }
 },
 "nbformat": 4,
 "nbformat_minor": 5
}
